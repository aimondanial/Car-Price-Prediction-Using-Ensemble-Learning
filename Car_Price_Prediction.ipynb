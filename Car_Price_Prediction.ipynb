{
  "nbformat": 4,
  "nbformat_minor": 0,
  "metadata": {
    "colab": {
      "provenance": [],
      "gpuType": "V28",
      "machine_shape": "hm"
    },
    "kernelspec": {
      "name": "python3",
      "display_name": "Python 3"
    },
    "language_info": {
      "name": "python"
    },
    "accelerator": "TPU"
  },
  "cells": [
    {
      "cell_type": "markdown",
      "source": [
        "This code is used to predict the car selling price based on the dataset downloaded from kaggle"
      ],
      "metadata": {
        "id": "W7m6Ihzf8u9A"
      }
    },
    {
      "cell_type": "code",
      "execution_count": null,
      "metadata": {
        "id": "ir0vX4jgeZmj"
      },
      "outputs": [],
      "source": [
        "# Import necessary libraries and Scikit learn classes\n",
        "\n",
        "import pandas as pd\n",
        "import numpy as np\n",
        "import seaborn as sns\n",
        "import matplotlib.pyplot as plt\n",
        "from sklearn.impute import SimpleImputer\n",
        "from sklearn.pipeline import Pipeline\n",
        "from sklearn.compose import ColumnTransformer\n",
        "from sklearn.preprocessing import StandardScaler, OneHotEncoder\n",
        "from sklearn.model_selection import train_test_split\n",
        "from sklearn.ensemble import RandomForestRegressor\n",
        "from sklearn.metrics import mean_squared_error"
      ]
    },
    {
      "cell_type": "code",
      "source": [
        "from google.colab import drive\n",
        "drive.mount('/content/drive')\n"
      ],
      "metadata": {
        "colab": {
          "base_uri": "https://localhost:8080/"
        },
        "id": "4LJK7OA5ecb3",
        "outputId": "ee772488-a6aa-439c-db94-9cf034c1a08b"
      },
      "execution_count": null,
      "outputs": [
        {
          "output_type": "stream",
          "name": "stdout",
          "text": [
            "Mounted at /content/drive\n"
          ]
        }
      ]
    },
    {
      "cell_type": "code",
      "source": [
        "from google.colab import drive\n",
        "import pandas as pd\n",
        "\n",
        "# Mount Google Drive\n",
        "drive.mount('/content/drive')\n",
        "\n",
        "# Path to your file on Google Drive\n",
        "file_path = '/content/drive/My Drive/Colab Notebooks/car_prices.csv'\n",
        "\n",
        "# Try reading the CSV file with a different encoding\n",
        "df = pd.read_csv(file_path, encoding='latin1',nrows=100000)\n",
        "\n",
        "# Display the first few rows of the DataFrame\n",
        "df.head()\n"
      ],
      "metadata": {
        "id": "kLQ8PBLsezh5",
        "colab": {
          "base_uri": "https://localhost:8080/",
          "height": 678
        },
        "outputId": "3a5bca33-f0c0-4c67-cac2-6b7686bcaa20"
      },
      "execution_count": null,
      "outputs": [
        {
          "output_type": "stream",
          "name": "stdout",
          "text": [
            "Drive already mounted at /content/drive; to attempt to forcibly remount, call drive.mount(\"/content/drive\", force_remount=True).\n"
          ]
        },
        {
          "output_type": "execute_result",
          "data": {
            "text/plain": [
              "   year   make                model        trim   body transmission  \\\n",
              "0  2015    Kia              Sorento          LX    SUV    automatic   \n",
              "1  2015    Kia              Sorento          LX    SUV    automatic   \n",
              "2  2014    BMW             3 Series  328i SULEV  Sedan    automatic   \n",
              "3  2015  Volvo                  S60          T5  Sedan    automatic   \n",
              "4  2014    BMW  6 Series Gran Coupe        650i  Sedan    automatic   \n",
              "\n",
              "                 vin state  condition  odometer  color interior  \\\n",
              "0  5xyktca69fg566472    ca        5.0   16639.0  white    black   \n",
              "1  5xyktca69fg561319    ca        5.0    9393.0  white    beige   \n",
              "2  wba3c1c51ek116351    ca       45.0    1331.0   gray    black   \n",
              "3  yv1612tb4f1310987    ca       41.0   14282.0  white    black   \n",
              "4  wba6b2c57ed129731    ca       43.0    2641.0   gray    black   \n",
              "\n",
              "                                   seller    mmr  sellingprice  \\\n",
              "0                 kia motors america  inc  20500         21500   \n",
              "1                 kia motors america  inc  20800         21500   \n",
              "2  financial services remarketing (lease)  31900         30000   \n",
              "3                 volvo na rep/world omni  27500         27750   \n",
              "4  financial services remarketing (lease)  66000         67000   \n",
              "\n",
              "                                  saledate  \n",
              "0  Tue Dec 16 2014 12:30:00 GMT-0800 (PST)  \n",
              "1  Tue Dec 16 2014 12:30:00 GMT-0800 (PST)  \n",
              "2  Thu Jan 15 2015 04:30:00 GMT-0800 (PST)  \n",
              "3  Thu Jan 29 2015 04:30:00 GMT-0800 (PST)  \n",
              "4  Thu Dec 18 2014 12:30:00 GMT-0800 (PST)  "
            ],
            "text/html": [
              "\n",
              "  <div id=\"df-2db4aa5e-6fab-4c18-897c-7c09cbd7948e\" class=\"colab-df-container\">\n",
              "    <div>\n",
              "<style scoped>\n",
              "    .dataframe tbody tr th:only-of-type {\n",
              "        vertical-align: middle;\n",
              "    }\n",
              "\n",
              "    .dataframe tbody tr th {\n",
              "        vertical-align: top;\n",
              "    }\n",
              "\n",
              "    .dataframe thead th {\n",
              "        text-align: right;\n",
              "    }\n",
              "</style>\n",
              "<table border=\"1\" class=\"dataframe\">\n",
              "  <thead>\n",
              "    <tr style=\"text-align: right;\">\n",
              "      <th></th>\n",
              "      <th>year</th>\n",
              "      <th>make</th>\n",
              "      <th>model</th>\n",
              "      <th>trim</th>\n",
              "      <th>body</th>\n",
              "      <th>transmission</th>\n",
              "      <th>vin</th>\n",
              "      <th>state</th>\n",
              "      <th>condition</th>\n",
              "      <th>odometer</th>\n",
              "      <th>color</th>\n",
              "      <th>interior</th>\n",
              "      <th>seller</th>\n",
              "      <th>mmr</th>\n",
              "      <th>sellingprice</th>\n",
              "      <th>saledate</th>\n",
              "    </tr>\n",
              "  </thead>\n",
              "  <tbody>\n",
              "    <tr>\n",
              "      <th>0</th>\n",
              "      <td>2015</td>\n",
              "      <td>Kia</td>\n",
              "      <td>Sorento</td>\n",
              "      <td>LX</td>\n",
              "      <td>SUV</td>\n",
              "      <td>automatic</td>\n",
              "      <td>5xyktca69fg566472</td>\n",
              "      <td>ca</td>\n",
              "      <td>5.0</td>\n",
              "      <td>16639.0</td>\n",
              "      <td>white</td>\n",
              "      <td>black</td>\n",
              "      <td>kia motors america  inc</td>\n",
              "      <td>20500</td>\n",
              "      <td>21500</td>\n",
              "      <td>Tue Dec 16 2014 12:30:00 GMT-0800 (PST)</td>\n",
              "    </tr>\n",
              "    <tr>\n",
              "      <th>1</th>\n",
              "      <td>2015</td>\n",
              "      <td>Kia</td>\n",
              "      <td>Sorento</td>\n",
              "      <td>LX</td>\n",
              "      <td>SUV</td>\n",
              "      <td>automatic</td>\n",
              "      <td>5xyktca69fg561319</td>\n",
              "      <td>ca</td>\n",
              "      <td>5.0</td>\n",
              "      <td>9393.0</td>\n",
              "      <td>white</td>\n",
              "      <td>beige</td>\n",
              "      <td>kia motors america  inc</td>\n",
              "      <td>20800</td>\n",
              "      <td>21500</td>\n",
              "      <td>Tue Dec 16 2014 12:30:00 GMT-0800 (PST)</td>\n",
              "    </tr>\n",
              "    <tr>\n",
              "      <th>2</th>\n",
              "      <td>2014</td>\n",
              "      <td>BMW</td>\n",
              "      <td>3 Series</td>\n",
              "      <td>328i SULEV</td>\n",
              "      <td>Sedan</td>\n",
              "      <td>automatic</td>\n",
              "      <td>wba3c1c51ek116351</td>\n",
              "      <td>ca</td>\n",
              "      <td>45.0</td>\n",
              "      <td>1331.0</td>\n",
              "      <td>gray</td>\n",
              "      <td>black</td>\n",
              "      <td>financial services remarketing (lease)</td>\n",
              "      <td>31900</td>\n",
              "      <td>30000</td>\n",
              "      <td>Thu Jan 15 2015 04:30:00 GMT-0800 (PST)</td>\n",
              "    </tr>\n",
              "    <tr>\n",
              "      <th>3</th>\n",
              "      <td>2015</td>\n",
              "      <td>Volvo</td>\n",
              "      <td>S60</td>\n",
              "      <td>T5</td>\n",
              "      <td>Sedan</td>\n",
              "      <td>automatic</td>\n",
              "      <td>yv1612tb4f1310987</td>\n",
              "      <td>ca</td>\n",
              "      <td>41.0</td>\n",
              "      <td>14282.0</td>\n",
              "      <td>white</td>\n",
              "      <td>black</td>\n",
              "      <td>volvo na rep/world omni</td>\n",
              "      <td>27500</td>\n",
              "      <td>27750</td>\n",
              "      <td>Thu Jan 29 2015 04:30:00 GMT-0800 (PST)</td>\n",
              "    </tr>\n",
              "    <tr>\n",
              "      <th>4</th>\n",
              "      <td>2014</td>\n",
              "      <td>BMW</td>\n",
              "      <td>6 Series Gran Coupe</td>\n",
              "      <td>650i</td>\n",
              "      <td>Sedan</td>\n",
              "      <td>automatic</td>\n",
              "      <td>wba6b2c57ed129731</td>\n",
              "      <td>ca</td>\n",
              "      <td>43.0</td>\n",
              "      <td>2641.0</td>\n",
              "      <td>gray</td>\n",
              "      <td>black</td>\n",
              "      <td>financial services remarketing (lease)</td>\n",
              "      <td>66000</td>\n",
              "      <td>67000</td>\n",
              "      <td>Thu Dec 18 2014 12:30:00 GMT-0800 (PST)</td>\n",
              "    </tr>\n",
              "  </tbody>\n",
              "</table>\n",
              "</div>\n",
              "    <div class=\"colab-df-buttons\">\n",
              "\n",
              "  <div class=\"colab-df-container\">\n",
              "    <button class=\"colab-df-convert\" onclick=\"convertToInteractive('df-2db4aa5e-6fab-4c18-897c-7c09cbd7948e')\"\n",
              "            title=\"Convert this dataframe to an interactive table.\"\n",
              "            style=\"display:none;\">\n",
              "\n",
              "  <svg xmlns=\"http://www.w3.org/2000/svg\" height=\"24px\" viewBox=\"0 -960 960 960\">\n",
              "    <path d=\"M120-120v-720h720v720H120Zm60-500h600v-160H180v160Zm220 220h160v-160H400v160Zm0 220h160v-160H400v160ZM180-400h160v-160H180v160Zm440 0h160v-160H620v160ZM180-180h160v-160H180v160Zm440 0h160v-160H620v160Z\"/>\n",
              "  </svg>\n",
              "    </button>\n",
              "\n",
              "  <style>\n",
              "    .colab-df-container {\n",
              "      display:flex;\n",
              "      gap: 12px;\n",
              "    }\n",
              "\n",
              "    .colab-df-convert {\n",
              "      background-color: #E8F0FE;\n",
              "      border: none;\n",
              "      border-radius: 50%;\n",
              "      cursor: pointer;\n",
              "      display: none;\n",
              "      fill: #1967D2;\n",
              "      height: 32px;\n",
              "      padding: 0 0 0 0;\n",
              "      width: 32px;\n",
              "    }\n",
              "\n",
              "    .colab-df-convert:hover {\n",
              "      background-color: #E2EBFA;\n",
              "      box-shadow: 0px 1px 2px rgba(60, 64, 67, 0.3), 0px 1px 3px 1px rgba(60, 64, 67, 0.15);\n",
              "      fill: #174EA6;\n",
              "    }\n",
              "\n",
              "    .colab-df-buttons div {\n",
              "      margin-bottom: 4px;\n",
              "    }\n",
              "\n",
              "    [theme=dark] .colab-df-convert {\n",
              "      background-color: #3B4455;\n",
              "      fill: #D2E3FC;\n",
              "    }\n",
              "\n",
              "    [theme=dark] .colab-df-convert:hover {\n",
              "      background-color: #434B5C;\n",
              "      box-shadow: 0px 1px 3px 1px rgba(0, 0, 0, 0.15);\n",
              "      filter: drop-shadow(0px 1px 2px rgba(0, 0, 0, 0.3));\n",
              "      fill: #FFFFFF;\n",
              "    }\n",
              "  </style>\n",
              "\n",
              "    <script>\n",
              "      const buttonEl =\n",
              "        document.querySelector('#df-2db4aa5e-6fab-4c18-897c-7c09cbd7948e button.colab-df-convert');\n",
              "      buttonEl.style.display =\n",
              "        google.colab.kernel.accessAllowed ? 'block' : 'none';\n",
              "\n",
              "      async function convertToInteractive(key) {\n",
              "        const element = document.querySelector('#df-2db4aa5e-6fab-4c18-897c-7c09cbd7948e');\n",
              "        const dataTable =\n",
              "          await google.colab.kernel.invokeFunction('convertToInteractive',\n",
              "                                                    [key], {});\n",
              "        if (!dataTable) return;\n",
              "\n",
              "        const docLinkHtml = 'Like what you see? Visit the ' +\n",
              "          '<a target=\"_blank\" href=https://colab.research.google.com/notebooks/data_table.ipynb>data table notebook</a>'\n",
              "          + ' to learn more about interactive tables.';\n",
              "        element.innerHTML = '';\n",
              "        dataTable['output_type'] = 'display_data';\n",
              "        await google.colab.output.renderOutput(dataTable, element);\n",
              "        const docLink = document.createElement('div');\n",
              "        docLink.innerHTML = docLinkHtml;\n",
              "        element.appendChild(docLink);\n",
              "      }\n",
              "    </script>\n",
              "  </div>\n",
              "\n",
              "\n",
              "<div id=\"df-7ac3bafc-0b29-4664-b76c-a7027e13c34d\">\n",
              "  <button class=\"colab-df-quickchart\" onclick=\"quickchart('df-7ac3bafc-0b29-4664-b76c-a7027e13c34d')\"\n",
              "            title=\"Suggest charts\"\n",
              "            style=\"display:none;\">\n",
              "\n",
              "<svg xmlns=\"http://www.w3.org/2000/svg\" height=\"24px\"viewBox=\"0 0 24 24\"\n",
              "     width=\"24px\">\n",
              "    <g>\n",
              "        <path d=\"M19 3H5c-1.1 0-2 .9-2 2v14c0 1.1.9 2 2 2h14c1.1 0 2-.9 2-2V5c0-1.1-.9-2-2-2zM9 17H7v-7h2v7zm4 0h-2V7h2v10zm4 0h-2v-4h2v4z\"/>\n",
              "    </g>\n",
              "</svg>\n",
              "  </button>\n",
              "\n",
              "<style>\n",
              "  .colab-df-quickchart {\n",
              "      --bg-color: #E8F0FE;\n",
              "      --fill-color: #1967D2;\n",
              "      --hover-bg-color: #E2EBFA;\n",
              "      --hover-fill-color: #174EA6;\n",
              "      --disabled-fill-color: #AAA;\n",
              "      --disabled-bg-color: #DDD;\n",
              "  }\n",
              "\n",
              "  [theme=dark] .colab-df-quickchart {\n",
              "      --bg-color: #3B4455;\n",
              "      --fill-color: #D2E3FC;\n",
              "      --hover-bg-color: #434B5C;\n",
              "      --hover-fill-color: #FFFFFF;\n",
              "      --disabled-bg-color: #3B4455;\n",
              "      --disabled-fill-color: #666;\n",
              "  }\n",
              "\n",
              "  .colab-df-quickchart {\n",
              "    background-color: var(--bg-color);\n",
              "    border: none;\n",
              "    border-radius: 50%;\n",
              "    cursor: pointer;\n",
              "    display: none;\n",
              "    fill: var(--fill-color);\n",
              "    height: 32px;\n",
              "    padding: 0;\n",
              "    width: 32px;\n",
              "  }\n",
              "\n",
              "  .colab-df-quickchart:hover {\n",
              "    background-color: var(--hover-bg-color);\n",
              "    box-shadow: 0 1px 2px rgba(60, 64, 67, 0.3), 0 1px 3px 1px rgba(60, 64, 67, 0.15);\n",
              "    fill: var(--button-hover-fill-color);\n",
              "  }\n",
              "\n",
              "  .colab-df-quickchart-complete:disabled,\n",
              "  .colab-df-quickchart-complete:disabled:hover {\n",
              "    background-color: var(--disabled-bg-color);\n",
              "    fill: var(--disabled-fill-color);\n",
              "    box-shadow: none;\n",
              "  }\n",
              "\n",
              "  .colab-df-spinner {\n",
              "    border: 2px solid var(--fill-color);\n",
              "    border-color: transparent;\n",
              "    border-bottom-color: var(--fill-color);\n",
              "    animation:\n",
              "      spin 1s steps(1) infinite;\n",
              "  }\n",
              "\n",
              "  @keyframes spin {\n",
              "    0% {\n",
              "      border-color: transparent;\n",
              "      border-bottom-color: var(--fill-color);\n",
              "      border-left-color: var(--fill-color);\n",
              "    }\n",
              "    20% {\n",
              "      border-color: transparent;\n",
              "      border-left-color: var(--fill-color);\n",
              "      border-top-color: var(--fill-color);\n",
              "    }\n",
              "    30% {\n",
              "      border-color: transparent;\n",
              "      border-left-color: var(--fill-color);\n",
              "      border-top-color: var(--fill-color);\n",
              "      border-right-color: var(--fill-color);\n",
              "    }\n",
              "    40% {\n",
              "      border-color: transparent;\n",
              "      border-right-color: var(--fill-color);\n",
              "      border-top-color: var(--fill-color);\n",
              "    }\n",
              "    60% {\n",
              "      border-color: transparent;\n",
              "      border-right-color: var(--fill-color);\n",
              "    }\n",
              "    80% {\n",
              "      border-color: transparent;\n",
              "      border-right-color: var(--fill-color);\n",
              "      border-bottom-color: var(--fill-color);\n",
              "    }\n",
              "    90% {\n",
              "      border-color: transparent;\n",
              "      border-bottom-color: var(--fill-color);\n",
              "    }\n",
              "  }\n",
              "</style>\n",
              "\n",
              "  <script>\n",
              "    async function quickchart(key) {\n",
              "      const quickchartButtonEl =\n",
              "        document.querySelector('#' + key + ' button');\n",
              "      quickchartButtonEl.disabled = true;  // To prevent multiple clicks.\n",
              "      quickchartButtonEl.classList.add('colab-df-spinner');\n",
              "      try {\n",
              "        const charts = await google.colab.kernel.invokeFunction(\n",
              "            'suggestCharts', [key], {});\n",
              "      } catch (error) {\n",
              "        console.error('Error during call to suggestCharts:', error);\n",
              "      }\n",
              "      quickchartButtonEl.classList.remove('colab-df-spinner');\n",
              "      quickchartButtonEl.classList.add('colab-df-quickchart-complete');\n",
              "    }\n",
              "    (() => {\n",
              "      let quickchartButtonEl =\n",
              "        document.querySelector('#df-7ac3bafc-0b29-4664-b76c-a7027e13c34d button');\n",
              "      quickchartButtonEl.style.display =\n",
              "        google.colab.kernel.accessAllowed ? 'block' : 'none';\n",
              "    })();\n",
              "  </script>\n",
              "</div>\n",
              "\n",
              "    </div>\n",
              "  </div>\n"
            ],
            "application/vnd.google.colaboratory.intrinsic+json": {
              "type": "dataframe",
              "variable_name": "df",
              "summary": "{\n  \"name\": \"df\",\n  \"rows\": 100000,\n  \"fields\": [\n    {\n      \"column\": \"year\",\n      \"properties\": {\n        \"dtype\": \"number\",\n        \"std\": 4,\n        \"min\": 1984,\n        \"max\": 2015,\n        \"num_unique_values\": 32,\n        \"samples\": [\n          1985,\n          2000,\n          1992\n        ],\n        \"semantic_type\": \"\",\n        \"description\": \"\"\n      }\n    },\n    {\n      \"column\": \"make\",\n      \"properties\": {\n        \"dtype\": \"category\",\n        \"num_unique_values\": 93,\n        \"samples\": [\n          \"chrysler\",\n          \"Volkswagen\",\n          \"honda\"\n        ],\n        \"semantic_type\": \"\",\n        \"description\": \"\"\n      }\n    },\n    {\n      \"column\": \"model\",\n      \"properties\": {\n        \"dtype\": \"category\",\n        \"num_unique_values\": 879,\n        \"samples\": [\n          \"7\",\n          \"Fusion Hybrid\",\n          \"previa\"\n        ],\n        \"semantic_type\": \"\",\n        \"description\": \"\"\n      }\n    },\n    {\n      \"column\": \"trim\",\n      \"properties\": {\n        \"dtype\": \"category\",\n        \"num_unique_values\": 1658,\n        \"samples\": [\n          \"Premium Group\",\n          \"ZX4 SES\",\n          \"S Krom Edition\"\n        ],\n        \"semantic_type\": \"\",\n        \"description\": \"\"\n      }\n    },\n    {\n      \"column\": \"body\",\n      \"properties\": {\n        \"dtype\": \"category\",\n        \"num_unique_values\": 43,\n        \"samples\": [\n          \"Q60 Coupe\",\n          \"Koup\",\n          \"Quad Cab\"\n        ],\n        \"semantic_type\": \"\",\n        \"description\": \"\"\n      }\n    },\n    {\n      \"column\": \"transmission\",\n      \"properties\": {\n        \"dtype\": \"category\",\n        \"num_unique_values\": 2,\n        \"samples\": [\n          \"manual\",\n          \"automatic\"\n        ],\n        \"semantic_type\": \"\",\n        \"description\": \"\"\n      }\n    },\n    {\n      \"column\": \"vin\",\n      \"properties\": {\n        \"dtype\": \"string\",\n        \"num_unique_values\": 99666,\n        \"samples\": [\n          \"4jgbf7be7aa613510\",\n          \"1ftfw1ef0cfb44810\"\n        ],\n        \"semantic_type\": \"\",\n        \"description\": \"\"\n      }\n    },\n    {\n      \"column\": \"state\",\n      \"properties\": {\n        \"dtype\": \"category\",\n        \"num_unique_values\": 36,\n        \"samples\": [\n          \"nm\",\n          \"mi\"\n        ],\n        \"semantic_type\": \"\",\n        \"description\": \"\"\n      }\n    },\n    {\n      \"column\": \"condition\",\n      \"properties\": {\n        \"dtype\": \"number\",\n        \"std\": 13.80488155788486,\n        \"min\": 1.0,\n        \"max\": 49.0,\n        \"num_unique_values\": 41,\n        \"samples\": [\n          46.0,\n          29.0\n        ],\n        \"semantic_type\": \"\",\n        \"description\": \"\"\n      }\n    },\n    {\n      \"column\": \"odometer\",\n      \"properties\": {\n        \"dtype\": \"number\",\n        \"std\": 57711.981005564405,\n        \"min\": 1.0,\n        \"max\": 999999.0,\n        \"num_unique_values\": 74071,\n        \"samples\": [\n          70884.0,\n          10942.0\n        ],\n        \"semantic_type\": \"\",\n        \"description\": \"\"\n      }\n    },\n    {\n      \"column\": \"color\",\n      \"properties\": {\n        \"dtype\": \"category\",\n        \"num_unique_values\": 20,\n        \"samples\": [\n          \"white\",\n          \"turquoise\"\n        ],\n        \"semantic_type\": \"\",\n        \"description\": \"\"\n      }\n    },\n    {\n      \"column\": \"interior\",\n      \"properties\": {\n        \"dtype\": \"category\",\n        \"num_unique_values\": 17,\n        \"samples\": [\n          \"black\",\n          \"beige\"\n        ],\n        \"semantic_type\": \"\",\n        \"description\": \"\"\n      }\n    },\n    {\n      \"column\": \"seller\",\n      \"properties\": {\n        \"dtype\": \"category\",\n        \"num_unique_values\": 7087,\n        \"samples\": [\n          \"crediauto financial dba crediauto usa financial\",\n          \"northwest car company inc\"\n        ],\n        \"semantic_type\": \"\",\n        \"description\": \"\"\n      }\n    },\n    {\n      \"column\": \"mmr\",\n      \"properties\": {\n        \"dtype\": \"number\",\n        \"std\": 9321,\n        \"min\": 25,\n        \"max\": 157000,\n        \"num_unique_values\": 1040,\n        \"samples\": [\n          11100,\n          5125\n        ],\n        \"semantic_type\": \"\",\n        \"description\": \"\"\n      }\n    },\n    {\n      \"column\": \"sellingprice\",\n      \"properties\": {\n        \"dtype\": \"number\",\n        \"std\": 9333,\n        \"min\": 1,\n        \"max\": 156000,\n        \"num_unique_values\": 1118,\n        \"samples\": [\n          15801,\n          16500\n        ],\n        \"semantic_type\": \"\",\n        \"description\": \"\"\n      }\n    },\n    {\n      \"column\": \"saledate\",\n      \"properties\": {\n        \"dtype\": \"object\",\n        \"num_unique_values\": 1579,\n        \"samples\": [\n          \"Wed Jan 21 2015 01:05:00 GMT-0800 (PST)\",\n          \"Wed Jan 14 2015 01:40:00 GMT-0800 (PST)\"\n        ],\n        \"semantic_type\": \"\",\n        \"description\": \"\"\n      }\n    }\n  ]\n}"
            }
          },
          "metadata": {},
          "execution_count": 3
        }
      ]
    },
    {
      "cell_type": "code",
      "source": [
        "df.describe()"
      ],
      "metadata": {
        "colab": {
          "base_uri": "https://localhost:8080/",
          "height": 300
        },
        "id": "lUP2joNc93f6",
        "outputId": "8c3360e9-0bbc-46a5-f01e-b2df8732e210"
      },
      "execution_count": null,
      "outputs": [
        {
          "output_type": "execute_result",
          "data": {
            "text/plain": [
              "                year     condition       odometer            mmr  \\\n",
              "count  100000.000000  88208.000000   99925.000000  100000.000000   \n",
              "mean     2009.293750     29.489037   75147.522172   12558.999500   \n",
              "std         4.256992     13.804882   57711.981006    9321.047724   \n",
              "min      1984.000000      1.000000       1.000000      25.000000   \n",
              "25%      2006.000000     21.000000   29568.000000    5475.000000   \n",
              "50%      2011.000000     33.000000   60953.000000   11350.000000   \n",
              "75%      2013.000000     41.000000  110618.000000   17050.000000   \n",
              "max      2015.000000     49.000000  999999.000000  157000.000000   \n",
              "\n",
              "        sellingprice  \n",
              "count  100000.000000  \n",
              "mean    12230.463520  \n",
              "std      9333.910641  \n",
              "min         1.000000  \n",
              "25%      5100.000000  \n",
              "50%     11000.000000  \n",
              "75%     16900.000000  \n",
              "max    156000.000000  "
            ],
            "text/html": [
              "\n",
              "  <div id=\"df-91ad3900-dc3f-47b5-8e1f-4ae511d91b06\" class=\"colab-df-container\">\n",
              "    <div>\n",
              "<style scoped>\n",
              "    .dataframe tbody tr th:only-of-type {\n",
              "        vertical-align: middle;\n",
              "    }\n",
              "\n",
              "    .dataframe tbody tr th {\n",
              "        vertical-align: top;\n",
              "    }\n",
              "\n",
              "    .dataframe thead th {\n",
              "        text-align: right;\n",
              "    }\n",
              "</style>\n",
              "<table border=\"1\" class=\"dataframe\">\n",
              "  <thead>\n",
              "    <tr style=\"text-align: right;\">\n",
              "      <th></th>\n",
              "      <th>year</th>\n",
              "      <th>condition</th>\n",
              "      <th>odometer</th>\n",
              "      <th>mmr</th>\n",
              "      <th>sellingprice</th>\n",
              "    </tr>\n",
              "  </thead>\n",
              "  <tbody>\n",
              "    <tr>\n",
              "      <th>count</th>\n",
              "      <td>100000.000000</td>\n",
              "      <td>88208.000000</td>\n",
              "      <td>99925.000000</td>\n",
              "      <td>100000.000000</td>\n",
              "      <td>100000.000000</td>\n",
              "    </tr>\n",
              "    <tr>\n",
              "      <th>mean</th>\n",
              "      <td>2009.293750</td>\n",
              "      <td>29.489037</td>\n",
              "      <td>75147.522172</td>\n",
              "      <td>12558.999500</td>\n",
              "      <td>12230.463520</td>\n",
              "    </tr>\n",
              "    <tr>\n",
              "      <th>std</th>\n",
              "      <td>4.256992</td>\n",
              "      <td>13.804882</td>\n",
              "      <td>57711.981006</td>\n",
              "      <td>9321.047724</td>\n",
              "      <td>9333.910641</td>\n",
              "    </tr>\n",
              "    <tr>\n",
              "      <th>min</th>\n",
              "      <td>1984.000000</td>\n",
              "      <td>1.000000</td>\n",
              "      <td>1.000000</td>\n",
              "      <td>25.000000</td>\n",
              "      <td>1.000000</td>\n",
              "    </tr>\n",
              "    <tr>\n",
              "      <th>25%</th>\n",
              "      <td>2006.000000</td>\n",
              "      <td>21.000000</td>\n",
              "      <td>29568.000000</td>\n",
              "      <td>5475.000000</td>\n",
              "      <td>5100.000000</td>\n",
              "    </tr>\n",
              "    <tr>\n",
              "      <th>50%</th>\n",
              "      <td>2011.000000</td>\n",
              "      <td>33.000000</td>\n",
              "      <td>60953.000000</td>\n",
              "      <td>11350.000000</td>\n",
              "      <td>11000.000000</td>\n",
              "    </tr>\n",
              "    <tr>\n",
              "      <th>75%</th>\n",
              "      <td>2013.000000</td>\n",
              "      <td>41.000000</td>\n",
              "      <td>110618.000000</td>\n",
              "      <td>17050.000000</td>\n",
              "      <td>16900.000000</td>\n",
              "    </tr>\n",
              "    <tr>\n",
              "      <th>max</th>\n",
              "      <td>2015.000000</td>\n",
              "      <td>49.000000</td>\n",
              "      <td>999999.000000</td>\n",
              "      <td>157000.000000</td>\n",
              "      <td>156000.000000</td>\n",
              "    </tr>\n",
              "  </tbody>\n",
              "</table>\n",
              "</div>\n",
              "    <div class=\"colab-df-buttons\">\n",
              "\n",
              "  <div class=\"colab-df-container\">\n",
              "    <button class=\"colab-df-convert\" onclick=\"convertToInteractive('df-91ad3900-dc3f-47b5-8e1f-4ae511d91b06')\"\n",
              "            title=\"Convert this dataframe to an interactive table.\"\n",
              "            style=\"display:none;\">\n",
              "\n",
              "  <svg xmlns=\"http://www.w3.org/2000/svg\" height=\"24px\" viewBox=\"0 -960 960 960\">\n",
              "    <path d=\"M120-120v-720h720v720H120Zm60-500h600v-160H180v160Zm220 220h160v-160H400v160Zm0 220h160v-160H400v160ZM180-400h160v-160H180v160Zm440 0h160v-160H620v160ZM180-180h160v-160H180v160Zm440 0h160v-160H620v160Z\"/>\n",
              "  </svg>\n",
              "    </button>\n",
              "\n",
              "  <style>\n",
              "    .colab-df-container {\n",
              "      display:flex;\n",
              "      gap: 12px;\n",
              "    }\n",
              "\n",
              "    .colab-df-convert {\n",
              "      background-color: #E8F0FE;\n",
              "      border: none;\n",
              "      border-radius: 50%;\n",
              "      cursor: pointer;\n",
              "      display: none;\n",
              "      fill: #1967D2;\n",
              "      height: 32px;\n",
              "      padding: 0 0 0 0;\n",
              "      width: 32px;\n",
              "    }\n",
              "\n",
              "    .colab-df-convert:hover {\n",
              "      background-color: #E2EBFA;\n",
              "      box-shadow: 0px 1px 2px rgba(60, 64, 67, 0.3), 0px 1px 3px 1px rgba(60, 64, 67, 0.15);\n",
              "      fill: #174EA6;\n",
              "    }\n",
              "\n",
              "    .colab-df-buttons div {\n",
              "      margin-bottom: 4px;\n",
              "    }\n",
              "\n",
              "    [theme=dark] .colab-df-convert {\n",
              "      background-color: #3B4455;\n",
              "      fill: #D2E3FC;\n",
              "    }\n",
              "\n",
              "    [theme=dark] .colab-df-convert:hover {\n",
              "      background-color: #434B5C;\n",
              "      box-shadow: 0px 1px 3px 1px rgba(0, 0, 0, 0.15);\n",
              "      filter: drop-shadow(0px 1px 2px rgba(0, 0, 0, 0.3));\n",
              "      fill: #FFFFFF;\n",
              "    }\n",
              "  </style>\n",
              "\n",
              "    <script>\n",
              "      const buttonEl =\n",
              "        document.querySelector('#df-91ad3900-dc3f-47b5-8e1f-4ae511d91b06 button.colab-df-convert');\n",
              "      buttonEl.style.display =\n",
              "        google.colab.kernel.accessAllowed ? 'block' : 'none';\n",
              "\n",
              "      async function convertToInteractive(key) {\n",
              "        const element = document.querySelector('#df-91ad3900-dc3f-47b5-8e1f-4ae511d91b06');\n",
              "        const dataTable =\n",
              "          await google.colab.kernel.invokeFunction('convertToInteractive',\n",
              "                                                    [key], {});\n",
              "        if (!dataTable) return;\n",
              "\n",
              "        const docLinkHtml = 'Like what you see? Visit the ' +\n",
              "          '<a target=\"_blank\" href=https://colab.research.google.com/notebooks/data_table.ipynb>data table notebook</a>'\n",
              "          + ' to learn more about interactive tables.';\n",
              "        element.innerHTML = '';\n",
              "        dataTable['output_type'] = 'display_data';\n",
              "        await google.colab.output.renderOutput(dataTable, element);\n",
              "        const docLink = document.createElement('div');\n",
              "        docLink.innerHTML = docLinkHtml;\n",
              "        element.appendChild(docLink);\n",
              "      }\n",
              "    </script>\n",
              "  </div>\n",
              "\n",
              "\n",
              "<div id=\"df-c64edcd9-03e0-4e1e-a380-fdd732d8a37d\">\n",
              "  <button class=\"colab-df-quickchart\" onclick=\"quickchart('df-c64edcd9-03e0-4e1e-a380-fdd732d8a37d')\"\n",
              "            title=\"Suggest charts\"\n",
              "            style=\"display:none;\">\n",
              "\n",
              "<svg xmlns=\"http://www.w3.org/2000/svg\" height=\"24px\"viewBox=\"0 0 24 24\"\n",
              "     width=\"24px\">\n",
              "    <g>\n",
              "        <path d=\"M19 3H5c-1.1 0-2 .9-2 2v14c0 1.1.9 2 2 2h14c1.1 0 2-.9 2-2V5c0-1.1-.9-2-2-2zM9 17H7v-7h2v7zm4 0h-2V7h2v10zm4 0h-2v-4h2v4z\"/>\n",
              "    </g>\n",
              "</svg>\n",
              "  </button>\n",
              "\n",
              "<style>\n",
              "  .colab-df-quickchart {\n",
              "      --bg-color: #E8F0FE;\n",
              "      --fill-color: #1967D2;\n",
              "      --hover-bg-color: #E2EBFA;\n",
              "      --hover-fill-color: #174EA6;\n",
              "      --disabled-fill-color: #AAA;\n",
              "      --disabled-bg-color: #DDD;\n",
              "  }\n",
              "\n",
              "  [theme=dark] .colab-df-quickchart {\n",
              "      --bg-color: #3B4455;\n",
              "      --fill-color: #D2E3FC;\n",
              "      --hover-bg-color: #434B5C;\n",
              "      --hover-fill-color: #FFFFFF;\n",
              "      --disabled-bg-color: #3B4455;\n",
              "      --disabled-fill-color: #666;\n",
              "  }\n",
              "\n",
              "  .colab-df-quickchart {\n",
              "    background-color: var(--bg-color);\n",
              "    border: none;\n",
              "    border-radius: 50%;\n",
              "    cursor: pointer;\n",
              "    display: none;\n",
              "    fill: var(--fill-color);\n",
              "    height: 32px;\n",
              "    padding: 0;\n",
              "    width: 32px;\n",
              "  }\n",
              "\n",
              "  .colab-df-quickchart:hover {\n",
              "    background-color: var(--hover-bg-color);\n",
              "    box-shadow: 0 1px 2px rgba(60, 64, 67, 0.3), 0 1px 3px 1px rgba(60, 64, 67, 0.15);\n",
              "    fill: var(--button-hover-fill-color);\n",
              "  }\n",
              "\n",
              "  .colab-df-quickchart-complete:disabled,\n",
              "  .colab-df-quickchart-complete:disabled:hover {\n",
              "    background-color: var(--disabled-bg-color);\n",
              "    fill: var(--disabled-fill-color);\n",
              "    box-shadow: none;\n",
              "  }\n",
              "\n",
              "  .colab-df-spinner {\n",
              "    border: 2px solid var(--fill-color);\n",
              "    border-color: transparent;\n",
              "    border-bottom-color: var(--fill-color);\n",
              "    animation:\n",
              "      spin 1s steps(1) infinite;\n",
              "  }\n",
              "\n",
              "  @keyframes spin {\n",
              "    0% {\n",
              "      border-color: transparent;\n",
              "      border-bottom-color: var(--fill-color);\n",
              "      border-left-color: var(--fill-color);\n",
              "    }\n",
              "    20% {\n",
              "      border-color: transparent;\n",
              "      border-left-color: var(--fill-color);\n",
              "      border-top-color: var(--fill-color);\n",
              "    }\n",
              "    30% {\n",
              "      border-color: transparent;\n",
              "      border-left-color: var(--fill-color);\n",
              "      border-top-color: var(--fill-color);\n",
              "      border-right-color: var(--fill-color);\n",
              "    }\n",
              "    40% {\n",
              "      border-color: transparent;\n",
              "      border-right-color: var(--fill-color);\n",
              "      border-top-color: var(--fill-color);\n",
              "    }\n",
              "    60% {\n",
              "      border-color: transparent;\n",
              "      border-right-color: var(--fill-color);\n",
              "    }\n",
              "    80% {\n",
              "      border-color: transparent;\n",
              "      border-right-color: var(--fill-color);\n",
              "      border-bottom-color: var(--fill-color);\n",
              "    }\n",
              "    90% {\n",
              "      border-color: transparent;\n",
              "      border-bottom-color: var(--fill-color);\n",
              "    }\n",
              "  }\n",
              "</style>\n",
              "\n",
              "  <script>\n",
              "    async function quickchart(key) {\n",
              "      const quickchartButtonEl =\n",
              "        document.querySelector('#' + key + ' button');\n",
              "      quickchartButtonEl.disabled = true;  // To prevent multiple clicks.\n",
              "      quickchartButtonEl.classList.add('colab-df-spinner');\n",
              "      try {\n",
              "        const charts = await google.colab.kernel.invokeFunction(\n",
              "            'suggestCharts', [key], {});\n",
              "      } catch (error) {\n",
              "        console.error('Error during call to suggestCharts:', error);\n",
              "      }\n",
              "      quickchartButtonEl.classList.remove('colab-df-spinner');\n",
              "      quickchartButtonEl.classList.add('colab-df-quickchart-complete');\n",
              "    }\n",
              "    (() => {\n",
              "      let quickchartButtonEl =\n",
              "        document.querySelector('#df-c64edcd9-03e0-4e1e-a380-fdd732d8a37d button');\n",
              "      quickchartButtonEl.style.display =\n",
              "        google.colab.kernel.accessAllowed ? 'block' : 'none';\n",
              "    })();\n",
              "  </script>\n",
              "</div>\n",
              "\n",
              "    </div>\n",
              "  </div>\n"
            ],
            "application/vnd.google.colaboratory.intrinsic+json": {
              "type": "dataframe",
              "summary": "{\n  \"name\": \"df\",\n  \"rows\": 8,\n  \"fields\": [\n    {\n      \"column\": \"year\",\n      \"properties\": {\n        \"dtype\": \"number\",\n        \"std\": 34754.162010562315,\n        \"min\": 4.256992149079156,\n        \"max\": 100000.0,\n        \"num_unique_values\": 8,\n        \"samples\": [\n          2009.29375,\n          2011.0,\n          100000.0\n        ],\n        \"semantic_type\": \"\",\n        \"description\": \"\"\n      }\n    },\n    {\n      \"column\": \"condition\",\n      \"properties\": {\n        \"dtype\": \"number\",\n        \"std\": 31176.73088299527,\n        \"min\": 1.0,\n        \"max\": 88208.0,\n        \"num_unique_values\": 8,\n        \"samples\": [\n          29.489037275530563,\n          33.0,\n          88208.0\n        ],\n        \"semantic_type\": \"\",\n        \"description\": \"\"\n      }\n    },\n    {\n      \"column\": \"odometer\",\n      \"properties\": {\n        \"dtype\": \"number\",\n        \"std\": 333545.805079651,\n        \"min\": 1.0,\n        \"max\": 999999.0,\n        \"num_unique_values\": 8,\n        \"samples\": [\n          75147.52217162872,\n          60953.0,\n          99925.0\n        ],\n        \"semantic_type\": \"\",\n        \"description\": \"\"\n      }\n    },\n    {\n      \"column\": \"mmr\",\n      \"properties\": {\n        \"dtype\": \"number\",\n        \"std\": 57463.27014017171,\n        \"min\": 25.0,\n        \"max\": 157000.0,\n        \"num_unique_values\": 8,\n        \"samples\": [\n          12558.9995,\n          11350.0,\n          100000.0\n        ],\n        \"semantic_type\": \"\",\n        \"description\": \"\"\n      }\n    },\n    {\n      \"column\": \"sellingprice\",\n      \"properties\": {\n        \"dtype\": \"number\",\n        \"std\": 57257.52561057001,\n        \"min\": 1.0,\n        \"max\": 156000.0,\n        \"num_unique_values\": 8,\n        \"samples\": [\n          12230.46352,\n          11000.0,\n          100000.0\n        ],\n        \"semantic_type\": \"\",\n        \"description\": \"\"\n      }\n    }\n  ]\n}"
            }
          },
          "metadata": {},
          "execution_count": 4
        }
      ]
    },
    {
      "cell_type": "markdown",
      "source": [
        "# CHECK NULL VALUE"
      ],
      "metadata": {
        "id": "73eSgsva7eHH"
      }
    },
    {
      "cell_type": "code",
      "source": [
        "print(df.isnull().sum())"
      ],
      "metadata": {
        "colab": {
          "base_uri": "https://localhost:8080/"
        },
        "id": "iW8N__6ZEuBf",
        "outputId": "c40b8c32-efe9-4a01-d640-e3b7726e9e67"
      },
      "execution_count": null,
      "outputs": [
        {
          "output_type": "stream",
          "name": "stdout",
          "text": [
            "year                0\n",
            "make              425\n",
            "model             443\n",
            "trim              696\n",
            "body             2731\n",
            "transmission    12000\n",
            "vin                 0\n",
            "state               0\n",
            "condition       11792\n",
            "odometer           75\n",
            "color             183\n",
            "interior          183\n",
            "seller              0\n",
            "mmr                 0\n",
            "sellingprice        0\n",
            "saledate            0\n",
            "dtype: int64\n"
          ]
        }
      ]
    },
    {
      "cell_type": "markdown",
      "source": [
        "Note: Transmission and condition has the highest null value"
      ],
      "metadata": {
        "id": "Q6Af025CE2Kq"
      }
    },
    {
      "cell_type": "code",
      "source": [
        "# prompt: plot a bar graph that show distribution of the missing value\n",
        "\n",
        "import missingno as msno\n",
        "\n",
        "# Plot a bar graph that shows the distribution of missing values\n",
        "msno.bar(df)\n",
        "plt.show()\n"
      ],
      "metadata": {
        "colab": {
          "base_uri": "https://localhost:8080/",
          "height": 461
        },
        "id": "rZuRR2HwF3BU",
        "outputId": "ec37940a-8be4-4f94-e3ec-0b67c92a2fd2"
      },
      "execution_count": null,
      "outputs": [
        {
          "output_type": "display_data",
          "data": {
            "text/plain": [
              "<Figure size 2500x1000 with 3 Axes>"
            ],
            "image/png": "[encoded data removed]"
          },
          "metadata": {}
        }
      ]
    },
    {
      "cell_type": "code",
      "source": [
        "df.columns"
      ],
      "metadata": {
        "colab": {
          "base_uri": "https://localhost:8080/"
        },
        "id": "O3PQ02W-G8se",
        "outputId": "b80fbb25-8788-4cc1-8efb-6fad485be600"
      },
      "execution_count": null,
      "outputs": [
        {
          "output_type": "execute_result",
          "data": {
            "text/plain": [
              "Index(['year', 'make', 'model', 'trim', 'body', 'transmission', 'vin', 'state',\n",
              "       'condition', 'odometer', 'color', 'interior', 'seller', 'mmr',\n",
              "       'sellingprice', 'saledate'],\n",
              "      dtype='object')"
            ]
          },
          "metadata": {},
          "execution_count": 7
        }
      ]
    },
    {
      "cell_type": "markdown",
      "source": [
        "# HANDLING NULL VALUE IN BOTH CATEGORICAL DATA AND NUMERICAL DATA"
      ],
      "metadata": {
        "id": "LxqHBfHjG1SM"
      }
    },
    {
      "cell_type": "code",
      "source": [
        "# List of categorical columns\n",
        "categorical_columns = ['make', 'model', 'body', 'trim', 'color', 'interior', 'transmission']\n",
        "\n",
        "# Impute categorical columns with mode\n",
        "for col in categorical_columns:\n",
        "    df[col] = df[col].fillna(df[col].mode()[0])\n",
        "\n",
        "# List of numerical columns\n",
        "numerical_columns = ['condition', 'odometer']\n",
        "\n",
        "# Impute numerical columns with mean\n",
        "for col in numerical_columns:\n",
        "    df[col] = df[col].fillna(df[col].mean())\n",
        "\n"
      ],
      "metadata": {
        "id": "IxQ6JuNPG38O"
      },
      "execution_count": null,
      "outputs": []
    },
    {
      "cell_type": "markdown",
      "source": [
        "The code above will fill in the null value in categorical column with the most frequent value while for numerical it will use the mean method"
      ],
      "metadata": {
        "id": "danq7UAuHZKZ"
      }
    },
    {
      "cell_type": "markdown",
      "source": [
        "# CHECK UNIQUE VALUE IN EACH CATEGORICAL DATA"
      ],
      "metadata": {
        "id": "zpQsqn_28IFs"
      }
    },
    {
      "cell_type": "code",
      "source": [
        "# List of categorical columns\n",
        "categorical_columns = ['make', 'model', 'trim', 'body', 'transmission', 'color', 'interior','saledate']\n",
        "\n",
        "# Create a dictionary to store the count of unique values for each categorical column\n",
        "unique_counts = {}\n",
        "\n",
        "# Iterate over the categorical columns\n",
        "for col in categorical_columns:\n",
        "    # Get the number of unique values for the current column\n",
        "    unique_counts[col] = df[col].nunique()\n",
        "\n",
        "# Create a DataFrame to display the counts of unique values\n",
        "df_unique_counts = pd.DataFrame(list(unique_counts.items()), columns=['Column', 'Unique Values Count'])\n",
        "\n",
        "# Display the DataFrame\n",
        "print(df_unique_counts)"
      ],
      "metadata": {
        "colab": {
          "base_uri": "https://localhost:8080/"
        },
        "id": "D9Cw4eoaIzk4",
        "outputId": "8e122334-2834-4609-93be-874bf5af6974"
      },
      "execution_count": null,
      "outputs": [
        {
          "output_type": "stream",
          "name": "stdout",
          "text": [
            "         Column  Unique Values Count\n",
            "0          make                   93\n",
            "1         model                  879\n",
            "2          trim                 1658\n",
            "3          body                   43\n",
            "4  transmission                    2\n",
            "5         color                   20\n",
            "6      interior                   17\n",
            "7      saledate                 1579\n"
          ]
        }
      ]
    },
    {
      "cell_type": "markdown",
      "source": [
        "Column model and trim has a lot of unique value. , if using One Hot Encoder for these 2, it will cause the column to be extremely large which will cause high dimensionality for the preprocessed table. this need to be solve by using dimensional reduction method -- features Hasher"
      ],
      "metadata": {
        "id": "WZ1JfzCGMZZ2"
      }
    },
    {
      "cell_type": "markdown",
      "source": [
        "# CHECK CORRELATION SCORE OF FEATURES WITH TARGET FOR NUMERICAL DATA"
      ],
      "metadata": {
        "id": "e6OyWEpu8N2V"
      }
    },
    {
      "cell_type": "code",
      "source": [
        "# List out only the numerical columns\n",
        "numerical_df = df.select_dtypes(include=['number'])\n",
        "\n",
        "# Compute the correlation matrix\n",
        "correlation_matrix = numerical_df.corr()\n",
        "\n",
        "# Display the correlation matrix\n",
        "print(\"Correlation matrix:\")\n",
        "print(correlation_matrix)\n",
        "\n",
        "# Create a heatmap plot\n",
        "plt.figure(figsize=(10, 8))\n",
        "sns.heatmap(correlation_matrix, annot=True, fmt=\".2f\", cmap='coolwarm', cbar=True, square=True)\n",
        "\n",
        "# Set title\n",
        "plt.title(\"Correlation Matrix Heatmap\")\n",
        "\n",
        "# Display the plot\n",
        "plt.show()"
      ],
      "metadata": {
        "colab": {
          "base_uri": "https://localhost:8080/",
          "height": 827
        },
        "id": "FMeC513YBF5K",
        "outputId": "df13abd3-a546-40bb-cda9-f9c2ad45d6b2"
      },
      "execution_count": null,
      "outputs": [
        {
          "output_type": "stream",
          "name": "stdout",
          "text": [
            "Correlation matrix:\n",
            "                  year  condition  odometer       mmr  sellingprice\n",
            "year          1.000000   0.309356 -0.755435  0.643319      0.631876\n",
            "condition     0.309356   1.000000 -0.281490  0.280685      0.330129\n",
            "odometer     -0.755435  -0.281490  1.000000 -0.613605     -0.603622\n",
            "mmr           0.643319   0.280685 -0.613605  1.000000      0.980963\n",
            "sellingprice  0.631876   0.330129 -0.603622  0.980963      1.000000\n"
          ]
        },
        {
          "output_type": "display_data",
          "data": {
            "text/plain": [
              "<Figure size 1000x800 with 2 Axes>"
            ],
            "image/png": "[encoded data removed]"
          },
          "metadata": {}
        }
      ]
    },
    {
      "cell_type": "markdown",
      "source": [
        "MMR has the highest correlation following with year and odometer\n"
      ],
      "metadata": {
        "id": "Zzq8Cz-KFbzk"
      }
    },
    {
      "cell_type": "markdown",
      "source": [
        "# CHECK DISTRIBUTION OF DATA IN THE NUMERICAL DATA"
      ],
      "metadata": {
        "id": "qwr7BvbH8bD-"
      }
    },
    {
      "cell_type": "code",
      "source": [
        "import matplotlib.pyplot as plt\n",
        "\n",
        "# Plot a histogram for all columns with smaller bins\n",
        "df.hist(bins=20, figsize=(20, 15))\n",
        "plt.tight_layout()  # This will provide better spacing between subplots\n",
        "plt.show()\n"
      ],
      "metadata": {
        "colab": {
          "base_uri": "https://localhost:8080/",
          "height": 717
        },
        "id": "S3e0F_VQGMI8",
        "outputId": "18a8745e-4b8f-4340-eb71-cbbcf0c9caa0"
      },
      "execution_count": null,
      "outputs": [
        {
          "output_type": "display_data",
          "data": {
            "text/plain": [
              "<Figure size 2000x1500 with 6 Axes>"
            ],
            "image/png": "[encoded data removed]"
          },
          "metadata": {}
        }
      ]
    },
    {
      "cell_type": "markdown",
      "source": [
        "Note: All of the value distribution is skewed, need to use log to ensure bell curve distribution for all numerical value"
      ],
      "metadata": {
        "id": "ISWGuu-e8gtO"
      }
    },
    {
      "cell_type": "code",
      "source": [
        "df.isnull().sum()"
      ],
      "metadata": {
        "colab": {
          "base_uri": "https://localhost:8080/"
        },
        "id": "23z7uxpvHpbb",
        "outputId": "396c4b73-85c3-46ce-d687-580a90fa501f"
      },
      "execution_count": null,
      "outputs": [
        {
          "output_type": "execute_result",
          "data": {
            "text/plain": [
              "year            0\n",
              "make            0\n",
              "model           0\n",
              "trim            0\n",
              "body            0\n",
              "transmission    0\n",
              "vin             0\n",
              "state           0\n",
              "condition       0\n",
              "odometer        0\n",
              "color           0\n",
              "interior        0\n",
              "seller          0\n",
              "mmr             0\n",
              "sellingprice    0\n",
              "saledate        0\n",
              "dtype: int64"
            ]
          },
          "metadata": {},
          "execution_count": 12
        }
      ]
    },
    {
      "cell_type": "code",
      "source": [
        "df.describe()"
      ],
      "metadata": {
        "colab": {
          "base_uri": "https://localhost:8080/",
          "height": 300
        },
        "id": "jf081uWdIeX9",
        "outputId": "84a54652-f8e0-443a-f45a-31f9cee06a43"
      },
      "execution_count": null,
      "outputs": [
        {
          "output_type": "execute_result",
          "data": {
            "text/plain": [
              "                year      condition       odometer            mmr  \\\n",
              "count  100000.000000  100000.000000  100000.000000  100000.000000   \n",
              "mean     2009.293750      29.489037   75147.522172   12558.999500   \n",
              "std         4.256992      12.965414   57690.334737    9321.047724   \n",
              "min      1984.000000       1.000000       1.000000      25.000000   \n",
              "25%      2006.000000      24.000000   29582.750000    5475.000000   \n",
              "50%      2011.000000      29.489037   61022.500000   11350.000000   \n",
              "75%      2013.000000      39.000000  110590.250000   17050.000000   \n",
              "max      2015.000000      49.000000  999999.000000  157000.000000   \n",
              "\n",
              "        sellingprice  \n",
              "count  100000.000000  \n",
              "mean    12230.463520  \n",
              "std      9333.910641  \n",
              "min         1.000000  \n",
              "25%      5100.000000  \n",
              "50%     11000.000000  \n",
              "75%     16900.000000  \n",
              "max    156000.000000  "
            ],
            "text/html": [
              "\n",
              "  <div id=\"df-337d0a2f-c154-4aec-bbff-3ef52a0481ee\" class=\"colab-df-container\">\n",
              "    <div>\n",
              "<style scoped>\n",
              "    .dataframe tbody tr th:only-of-type {\n",
              "        vertical-align: middle;\n",
              "    }\n",
              "\n",
              "    .dataframe tbody tr th {\n",
              "        vertical-align: top;\n",
              "    }\n",
              "\n",
              "    .dataframe thead th {\n",
              "        text-align: right;\n",
              "    }\n",
              "</style>\n",
              "<table border=\"1\" class=\"dataframe\">\n",
              "  <thead>\n",
              "    <tr style=\"text-align: right;\">\n",
              "      <th></th>\n",
              "      <th>year</th>\n",
              "      <th>condition</th>\n",
              "      <th>odometer</th>\n",
              "      <th>mmr</th>\n",
              "      <th>sellingprice</th>\n",
              "    </tr>\n",
              "  </thead>\n",
              "  <tbody>\n",
              "    <tr>\n",
              "      <th>count</th>\n",
              "      <td>100000.000000</td>\n",
              "      <td>100000.000000</td>\n",
              "      <td>100000.000000</td>\n",
              "      <td>100000.000000</td>\n",
              "      <td>100000.000000</td>\n",
              "    </tr>\n",
              "    <tr>\n",
              "      <th>mean</th>\n",
              "      <td>2009.293750</td>\n",
              "      <td>29.489037</td>\n",
              "      <td>75147.522172</td>\n",
              "      <td>12558.999500</td>\n",
              "      <td>12230.463520</td>\n",
              "    </tr>\n",
              "    <tr>\n",
              "      <th>std</th>\n",
              "      <td>4.256992</td>\n",
              "      <td>12.965414</td>\n",
              "      <td>57690.334737</td>\n",
              "      <td>9321.047724</td>\n",
              "      <td>9333.910641</td>\n",
              "    </tr>\n",
              "    <tr>\n",
              "      <th>min</th>\n",
              "      <td>1984.000000</td>\n",
              "      <td>1.000000</td>\n",
              "      <td>1.000000</td>\n",
              "      <td>25.000000</td>\n",
              "      <td>1.000000</td>\n",
              "    </tr>\n",
              "    <tr>\n",
              "      <th>25%</th>\n",
              "      <td>2006.000000</td>\n",
              "      <td>24.000000</td>\n",
              "      <td>29582.750000</td>\n",
              "      <td>5475.000000</td>\n",
              "      <td>5100.000000</td>\n",
              "    </tr>\n",
              "    <tr>\n",
              "      <th>50%</th>\n",
              "      <td>2011.000000</td>\n",
              "      <td>29.489037</td>\n",
              "      <td>61022.500000</td>\n",
              "      <td>11350.000000</td>\n",
              "      <td>11000.000000</td>\n",
              "    </tr>\n",
              "    <tr>\n",
              "      <th>75%</th>\n",
              "      <td>2013.000000</td>\n",
              "      <td>39.000000</td>\n",
              "      <td>110590.250000</td>\n",
              "      <td>17050.000000</td>\n",
              "      <td>16900.000000</td>\n",
              "    </tr>\n",
              "    <tr>\n",
              "      <th>max</th>\n",
              "      <td>2015.000000</td>\n",
              "      <td>49.000000</td>\n",
              "      <td>999999.000000</td>\n",
              "      <td>157000.000000</td>\n",
              "      <td>156000.000000</td>\n",
              "    </tr>\n",
              "  </tbody>\n",
              "</table>\n",
              "</div>\n",
              "    <div class=\"colab-df-buttons\">\n",
              "\n",
              "  <div class=\"colab-df-container\">\n",
              "    <button class=\"colab-df-convert\" onclick=\"convertToInteractive('df-337d0a2f-c154-4aec-bbff-3ef52a0481ee')\"\n",
              "            title=\"Convert this dataframe to an interactive table.\"\n",
              "            style=\"display:none;\">\n",
              "\n",
              "  <svg xmlns=\"http://www.w3.org/2000/svg\" height=\"24px\" viewBox=\"0 -960 960 960\">\n",
              "    <path d=\"M120-120v-720h720v720H120Zm60-500h600v-160H180v160Zm220 220h160v-160H400v160Zm0 220h160v-160H400v160ZM180-400h160v-160H180v160Zm440 0h160v-160H620v160ZM180-180h160v-160H180v160Zm440 0h160v-160H620v160Z\"/>\n",
              "  </svg>\n",
              "    </button>\n",
              "\n",
              "  <style>\n",
              "    .colab-df-container {\n",
              "      display:flex;\n",
              "      gap: 12px;\n",
              "    }\n",
              "\n",
              "    .colab-df-convert {\n",
              "      background-color: #E8F0FE;\n",
              "      border: none;\n",
              "      border-radius: 50%;\n",
              "      cursor: pointer;\n",
              "      display: none;\n",
              "      fill: #1967D2;\n",
              "      height: 32px;\n",
              "      padding: 0 0 0 0;\n",
              "      width: 32px;\n",
              "    }\n",
              "\n",
              "    .colab-df-convert:hover {\n",
              "      background-color: #E2EBFA;\n",
              "      box-shadow: 0px 1px 2px rgba(60, 64, 67, 0.3), 0px 1px 3px 1px rgba(60, 64, 67, 0.15);\n",
              "      fill: #174EA6;\n",
              "    }\n",
              "\n",
              "    .colab-df-buttons div {\n",
              "      margin-bottom: 4px;\n",
              "    }\n",
              "\n",
              "    [theme=dark] .colab-df-convert {\n",
              "      background-color: #3B4455;\n",
              "      fill: #D2E3FC;\n",
              "    }\n",
              "\n",
              "    [theme=dark] .colab-df-convert:hover {\n",
              "      background-color: #434B5C;\n",
              "      box-shadow: 0px 1px 3px 1px rgba(0, 0, 0, 0.15);\n",
              "      filter: drop-shadow(0px 1px 2px rgba(0, 0, 0, 0.3));\n",
              "      fill: #FFFFFF;\n",
              "    }\n",
              "  </style>\n",
              "\n",
              "    <script>\n",
              "      const buttonEl =\n",
              "        document.querySelector('#df-337d0a2f-c154-4aec-bbff-3ef52a0481ee button.colab-df-convert');\n",
              "      buttonEl.style.display =\n",
              "        google.colab.kernel.accessAllowed ? 'block' : 'none';\n",
              "\n",
              "      async function convertToInteractive(key) {\n",
              "        const element = document.querySelector('#df-337d0a2f-c154-4aec-bbff-3ef52a0481ee');\n",
              "        const dataTable =\n",
              "          await google.colab.kernel.invokeFunction('convertToInteractive',\n",
              "                                                    [key], {});\n",
              "        if (!dataTable) return;\n",
              "\n",
              "        const docLinkHtml = 'Like what you see? Visit the ' +\n",
              "          '<a target=\"_blank\" href=https://colab.research.google.com/notebooks/data_table.ipynb>data table notebook</a>'\n",
              "          + ' to learn more about interactive tables.';\n",
              "        element.innerHTML = '';\n",
              "        dataTable['output_type'] = 'display_data';\n",
              "        await google.colab.output.renderOutput(dataTable, element);\n",
              "        const docLink = document.createElement('div');\n",
              "        docLink.innerHTML = docLinkHtml;\n",
              "        element.appendChild(docLink);\n",
              "      }\n",
              "    </script>\n",
              "  </div>\n",
              "\n",
              "\n",
              "<div id=\"df-bb9ec770-4d80-4549-aba9-517d69719f88\">\n",
              "  <button class=\"colab-df-quickchart\" onclick=\"quickchart('df-bb9ec770-4d80-4549-aba9-517d69719f88')\"\n",
              "            title=\"Suggest charts\"\n",
              "            style=\"display:none;\">\n",
              "\n",
              "<svg xmlns=\"http://www.w3.org/2000/svg\" height=\"24px\"viewBox=\"0 0 24 24\"\n",
              "     width=\"24px\">\n",
              "    <g>\n",
              "        <path d=\"M19 3H5c-1.1 0-2 .9-2 2v14c0 1.1.9 2 2 2h14c1.1 0 2-.9 2-2V5c0-1.1-.9-2-2-2zM9 17H7v-7h2v7zm4 0h-2V7h2v10zm4 0h-2v-4h2v4z\"/>\n",
              "    </g>\n",
              "</svg>\n",
              "  </button>\n",
              "\n",
              "<style>\n",
              "  .colab-df-quickchart {\n",
              "      --bg-color: #E8F0FE;\n",
              "      --fill-color: #1967D2;\n",
              "      --hover-bg-color: #E2EBFA;\n",
              "      --hover-fill-color: #174EA6;\n",
              "      --disabled-fill-color: #AAA;\n",
              "      --disabled-bg-color: #DDD;\n",
              "  }\n",
              "\n",
              "  [theme=dark] .colab-df-quickchart {\n",
              "      --bg-color: #3B4455;\n",
              "      --fill-color: #D2E3FC;\n",
              "      --hover-bg-color: #434B5C;\n",
              "      --hover-fill-color: #FFFFFF;\n",
              "      --disabled-bg-color: #3B4455;\n",
              "      --disabled-fill-color: #666;\n",
              "  }\n",
              "\n",
              "  .colab-df-quickchart {\n",
              "    background-color: var(--bg-color);\n",
              "    border: none;\n",
              "    border-radius: 50%;\n",
              "    cursor: pointer;\n",
              "    display: none;\n",
              "    fill: var(--fill-color);\n",
              "    height: 32px;\n",
              "    padding: 0;\n",
              "    width: 32px;\n",
              "  }\n",
              "\n",
              "  .colab-df-quickchart:hover {\n",
              "    background-color: var(--hover-bg-color);\n",
              "    box-shadow: 0 1px 2px rgba(60, 64, 67, 0.3), 0 1px 3px 1px rgba(60, 64, 67, 0.15);\n",
              "    fill: var(--button-hover-fill-color);\n",
              "  }\n",
              "\n",
              "  .colab-df-quickchart-complete:disabled,\n",
              "  .colab-df-quickchart-complete:disabled:hover {\n",
              "    background-color: var(--disabled-bg-color);\n",
              "    fill: var(--disabled-fill-color);\n",
              "    box-shadow: none;\n",
              "  }\n",
              "\n",
              "  .colab-df-spinner {\n",
              "    border: 2px solid var(--fill-color);\n",
              "    border-color: transparent;\n",
              "    border-bottom-color: var(--fill-color);\n",
              "    animation:\n",
              "      spin 1s steps(1) infinite;\n",
              "  }\n",
              "\n",
              "  @keyframes spin {\n",
              "    0% {\n",
              "      border-color: transparent;\n",
              "      border-bottom-color: var(--fill-color);\n",
              "      border-left-color: var(--fill-color);\n",
              "    }\n",
              "    20% {\n",
              "      border-color: transparent;\n",
              "      border-left-color: var(--fill-color);\n",
              "      border-top-color: var(--fill-color);\n",
              "    }\n",
              "    30% {\n",
              "      border-color: transparent;\n",
              "      border-left-color: var(--fill-color);\n",
              "      border-top-color: var(--fill-color);\n",
              "      border-right-color: var(--fill-color);\n",
              "    }\n",
              "    40% {\n",
              "      border-color: transparent;\n",
              "      border-right-color: var(--fill-color);\n",
              "      border-top-color: var(--fill-color);\n",
              "    }\n",
              "    60% {\n",
              "      border-color: transparent;\n",
              "      border-right-color: var(--fill-color);\n",
              "    }\n",
              "    80% {\n",
              "      border-color: transparent;\n",
              "      border-right-color: var(--fill-color);\n",
              "      border-bottom-color: var(--fill-color);\n",
              "    }\n",
              "    90% {\n",
              "      border-color: transparent;\n",
              "      border-bottom-color: var(--fill-color);\n",
              "    }\n",
              "  }\n",
              "</style>\n",
              "\n",
              "  <script>\n",
              "    async function quickchart(key) {\n",
              "      const quickchartButtonEl =\n",
              "        document.querySelector('#' + key + ' button');\n",
              "      quickchartButtonEl.disabled = true;  // To prevent multiple clicks.\n",
              "      quickchartButtonEl.classList.add('colab-df-spinner');\n",
              "      try {\n",
              "        const charts = await google.colab.kernel.invokeFunction(\n",
              "            'suggestCharts', [key], {});\n",
              "      } catch (error) {\n",
              "        console.error('Error during call to suggestCharts:', error);\n",
              "      }\n",
              "      quickchartButtonEl.classList.remove('colab-df-spinner');\n",
              "      quickchartButtonEl.classList.add('colab-df-quickchart-complete');\n",
              "    }\n",
              "    (() => {\n",
              "      let quickchartButtonEl =\n",
              "        document.querySelector('#df-bb9ec770-4d80-4549-aba9-517d69719f88 button');\n",
              "      quickchartButtonEl.style.display =\n",
              "        google.colab.kernel.accessAllowed ? 'block' : 'none';\n",
              "    })();\n",
              "  </script>\n",
              "</div>\n",
              "\n",
              "    </div>\n",
              "  </div>\n"
            ],
            "application/vnd.google.colaboratory.intrinsic+json": {
              "type": "dataframe",
              "summary": "{\n  \"name\": \"df\",\n  \"rows\": 8,\n  \"fields\": [\n    {\n      \"column\": \"year\",\n      \"properties\": {\n        \"dtype\": \"number\",\n        \"std\": 34754.162010562315,\n        \"min\": 4.256992149079156,\n        \"max\": 100000.0,\n        \"num_unique_values\": 8,\n        \"samples\": [\n          2009.29375,\n          2011.0,\n          100000.0\n        ],\n        \"semantic_type\": \"\",\n        \"description\": \"\"\n      }\n    },\n    {\n      \"column\": \"condition\",\n      \"properties\": {\n        \"dtype\": \"number\",\n        \"std\": 35346.00107425384,\n        \"min\": 1.0,\n        \"max\": 100000.0,\n        \"num_unique_values\": 8,\n        \"samples\": [\n          29.489037275530567,\n          29.489037275530563,\n          100000.0\n        ],\n        \"semantic_type\": \"\",\n        \"description\": \"\"\n      }\n    },\n    {\n      \"column\": \"odometer\",\n      \"properties\": {\n        \"dtype\": \"number\",\n        \"std\": 333540.73519066395,\n        \"min\": 1.0,\n        \"max\": 999999.0,\n        \"num_unique_values\": 8,\n        \"samples\": [\n          75147.52217162872,\n          61022.5,\n          100000.0\n        ],\n        \"semantic_type\": \"\",\n        \"description\": \"\"\n      }\n    },\n    {\n      \"column\": \"mmr\",\n      \"properties\": {\n        \"dtype\": \"number\",\n        \"std\": 57463.27014017171,\n        \"min\": 25.0,\n        \"max\": 157000.0,\n        \"num_unique_values\": 8,\n        \"samples\": [\n          12558.9995,\n          11350.0,\n          100000.0\n        ],\n        \"semantic_type\": \"\",\n        \"description\": \"\"\n      }\n    },\n    {\n      \"column\": \"sellingprice\",\n      \"properties\": {\n        \"dtype\": \"number\",\n        \"std\": 57257.52561057001,\n        \"min\": 1.0,\n        \"max\": 156000.0,\n        \"num_unique_values\": 8,\n        \"samples\": [\n          12230.46352,\n          11000.0,\n          100000.0\n        ],\n        \"semantic_type\": \"\",\n        \"description\": \"\"\n      }\n    }\n  ]\n}"
            }
          },
          "metadata": {},
          "execution_count": 13
        }
      ]
    },
    {
      "cell_type": "markdown",
      "source": [
        "# TRAIN TEST SPLIT"
      ],
      "metadata": {
        "id": "KcX60lgH8o1T"
      }
    },
    {
      "cell_type": "code",
      "source": [
        "X = df.drop('sellingprice', axis=1)\n",
        "y = df['sellingprice']\n",
        "X_train, X_test, y_train, y_test = train_test_split(X, y, test_size=0.2, random_state=42)\n"
      ],
      "metadata": {
        "id": "OLKgLAHEJtky"
      },
      "execution_count": null,
      "outputs": []
    },
    {
      "cell_type": "code",
      "source": [
        "df.columns"
      ],
      "metadata": {
        "colab": {
          "base_uri": "https://localhost:8080/"
        },
        "id": "ZZvQNDd9LM36",
        "outputId": "5ae90b18-0c20-4300-a022-42f6a6490084"
      },
      "execution_count": null,
      "outputs": [
        {
          "output_type": "execute_result",
          "data": {
            "text/plain": [
              "Index(['year', 'make', 'model', 'trim', 'body', 'transmission', 'vin', 'state',\n",
              "       'condition', 'odometer', 'color', 'interior', 'seller', 'mmr',\n",
              "       'sellingprice', 'saledate'],\n",
              "      dtype='object')"
            ]
          },
          "metadata": {},
          "execution_count": 15
        }
      ]
    },
    {
      "cell_type": "markdown",
      "source": [
        "# BUILD A PIPELINE"
      ],
      "metadata": {
        "id": "-XQbjxsxFw-V"
      }
    },
    {
      "cell_type": "code",
      "source": [
        "from sklearn.pipeline import make_pipeline, Pipeline\n",
        "from sklearn.compose import ColumnTransformer\n",
        "from sklearn.preprocessing import FunctionTransformer, OneHotEncoder\n",
        "from sklearn.feature_extraction import FeatureHasher\n",
        "from sklearn.preprocessing import StandardScaler\n",
        "from sklearn.linear_model import LinearRegression\n",
        "import numpy as np\n",
        "import pandas as pd\n",
        "\n",
        "# Define the log pipeline for numerical columns\n",
        "def log_pipeline():\n",
        "    return make_pipeline(\n",
        "        FunctionTransformer(np.log1p, validate=False),\n",
        "        StandardScaler())\n",
        "\n",
        "# Define the default numerical pipeline\n",
        "def default_num_pipeline():\n",
        "    return make_pipeline(\n",
        "        StandardScaler())\n",
        "\n",
        "# Define the feature hashing pipeline for high cardinality categorical columns\n",
        "def hashing_pipeline(n_features):\n",
        "    return make_pipeline(\n",
        "        FunctionTransformer(lambda X: FeatureHasher(n_features=n_features, input_type='string').transform(X.applymap(str).values.tolist()).toarray(), validate=False)\n",
        "    )\n",
        "\n",
        "# Define the binary encoding function for binary categorical columns\n",
        "def binary_encode(X):\n",
        "    return np.where(X == 'Automatic', 1, 0).reshape(-1, 1)\n",
        "\n",
        "# Define the preprocessing pipeline\n",
        "preprocessor = ColumnTransformer([\n",
        "    (\"log\", log_pipeline(), [\"year\", \"condition\", \"odometer\", \"mmr\"]),\n",
        "    (\"hash\", hashing_pipeline(n_features=10), [\"model\", \"trim\", \"saledate\"]),\n",
        "    (\"onehot\", OneHotEncoder(handle_unknown='ignore', sparse=False), [\"make\", \"body\", \"color\", \"interior\", \"state\", \"seller\"]),\n",
        "    (\"binary\", FunctionTransformer(binary_encode, validate=False), [\"transmission\"])\n",
        "], remainder='drop')\n",
        "\n",
        "# Fit and transform the data\n",
        "X_train_preprocessed = preprocessor.fit_transform(X_train)\n",
        "X_test_preprocessed = preprocessor.transform(X_test)\n",
        "\n",
        "print(X_train_preprocessed)\n",
        "print(X_test_preprocessed)\n"
      ],
      "metadata": {
        "colab": {
          "base_uri": "https://localhost:8080/"
        },
        "id": "G9KfXyqfV1XF",
        "outputId": "4bd526f9-b1fc-40cc-9b67-9b73eee840e7"
      },
      "execution_count": null,
      "outputs": [
        {
          "output_type": "stream",
          "name": "stderr",
          "text": [
            "/usr/local/lib/python3.10/dist-packages/sklearn/preprocessing/_encoders.py:868: FutureWarning: `sparse` was renamed to `sparse_output` in version 1.2 and will be removed in 1.4. `sparse_output` is ignored unless you leave `sparse` to its default value.\n",
            "  warnings.warn(\n"
          ]
        },
        {
          "output_type": "stream",
          "name": "stdout",
          "text": [
            "[[ 0.63655625  0.71374902 -0.86500237 ...  0.          0.\n",
            "   0.        ]\n",
            " [-1.94780626 -2.70881366  0.94575634 ...  0.          0.\n",
            "   0.        ]\n",
            " [-0.06686667 -0.29107951  0.90948269 ...  0.          0.\n",
            "   0.        ]\n",
            " ...\n",
            " [-0.3015743   0.74238895  0.1021446  ...  0.          0.\n",
            "   0.        ]\n",
            " [ 0.63655625  0.71374902 -0.34092534 ...  0.          0.\n",
            "   0.        ]\n",
            " [-0.3015743   0.2462619   0.38630032 ...  0.          0.\n",
            "   0.        ]]\n",
            "[[ 1.1049227  -2.34218489 -0.82583587 ...  0.          0.\n",
            "   0.        ]\n",
            " [ 0.63655625 -2.05780552 -0.71680465 ...  0.          0.\n",
            "   0.        ]\n",
            " [-0.77134026  0.45800958  0.58453367 ...  0.          0.\n",
            "   0.        ]\n",
            " ...\n",
            " [ 0.63655625  0.42210796  0.03931443 ...  0.          0.\n",
            "   0.        ]\n",
            " [ 0.63655625  0.18244979 -0.08780629 ...  0.          0.\n",
            "   0.        ]\n",
            " [ 0.63655625  0.59228349 -0.07482    ...  0.          0.\n",
            "   0.        ]]\n"
          ]
        }
      ]
    },
    {
      "cell_type": "markdown",
      "source": [
        "\n",
        "### Function Definitions\n",
        "- **log_pipeline()**:\n",
        "  - Creates a pipeline that applies a logarithmic transformation followed by standard scaling to numerical columns.\n",
        "  - `FunctionTransformer(np.log1p, validate=False)`: Applies the log1p (log(1 + x)) transformation to handle positive numerical values.\n",
        "  - `StandardScaler()`: Standardizes features by removing the mean and scaling to unit variance.\n",
        "\n",
        "- **default_num_pipeline()**:\n",
        "  - Creates a pipeline that applies standard scaling to numerical columns.\n",
        "  - `StandardScaler()`: Standardizes features by removing the mean and scaling to unit variance.\n",
        "\n",
        "- **hashing_pipeline(n_features)**:\n",
        "  - Creates a pipeline that applies feature hashing to high-cardinality categorical columns.\n",
        "  - `FunctionTransformer(lambda X: FeatureHasher(n_features=n_features, input_type='string').transform(X.applymap(str).values.tolist()).toarray(), validate=False)`: Applies feature hashing using a lambda function to convert the data into hashed feature vectors.\n",
        "\n",
        "- **binary_encode(X)**:\n",
        "  - Defines a custom binary encoding function for binary categorical columns.\n",
        "  - `np.where(X == 'Automatic', 1, 0).reshape(-1, 1)`: Encodes 'Automatic' as 1 and other values as 0, reshaping the result to a column vector.\n",
        "\n",
        "### Preprocessing Pipeline\n",
        "- **preprocessor**:\n",
        "  - Combines various preprocessing pipelines for different columns using `ColumnTransformer`.\n",
        "  - `(\"log\", log_pipeline(), [\"year\", \"condition\", \"odometer\", \"mmr\"])`: Applies the log pipeline to the columns 'year', 'condition', 'odometer', and 'mmr' as all of these numerical data is skewed.\n",
        "  - `(\"hash\", hashing_pipeline(n_features=10), [\"model\", \"trim\", \"saledate\"])`: Applies feature hashing to the columns 'model', 'trim', and 'saledate' as these catgeorical data has too many  unique value.\n",
        "  - `(\"onehot\", OneHotEncoder(handle_unknown='ignore', sparse=False), [\"make\", \"body\", \"color\", \"interior\", \"state\", \"seller\"])`: Applies one-hot encoding to the columns 'make', 'body', 'color', 'interior', 'state', and 'seller'.\n",
        "  - `(\"binary\", FunctionTransformer(binary_encode, validate=False), [\"transmission\"])`: Applies the binary encoding function to the 'transmission' column.\n",
        "  - `remainder='drop'`: Drops columns not specified in the transformers.\n"
      ],
      "metadata": {
        "id": "Aey6MzTe55ql"
      }
    },
    {
      "cell_type": "code",
      "source": [
        "### Linear Regression ###\n",
        "\n",
        "from sklearn.linear_model import LinearRegression\n",
        "\n",
        "# Define the pipeline with Linear Regression\n",
        "model = Pipeline(steps=[\n",
        "    ('preprocessor', preprocessor),\n",
        "    ('regressor', LinearRegression())\n",
        "])\n",
        "\n",
        "# Fit the model\n",
        "%time model.fit(X_train, y_train)\n"
      ],
      "metadata": {
        "colab": {
          "base_uri": "https://localhost:8080/",
          "height": 319
        },
        "id": "zEmlJPJENlxa",
        "outputId": "1da09485-a7ce-4b44-e128-e480c80a7223"
      },
      "execution_count": null,
      "outputs": [
        {
          "output_type": "stream",
          "name": "stderr",
          "text": [
            "/usr/local/lib/python3.10/dist-packages/sklearn/preprocessing/_encoders.py:868: FutureWarning: `sparse` was renamed to `sparse_output` in version 1.2 and will be removed in 1.4. `sparse_output` is ignored unless you leave `sparse` to its default value.\n",
            "  warnings.warn(\n"
          ]
        },
        {
          "output_type": "stream",
          "name": "stdout",
          "text": [
            "CPU times: user 17min 56s, sys: 5min 15s, total: 23min 11s\n",
            "Wall time: 2min 24s\n"
          ]
        },
        {
          "output_type": "execute_result",
          "data": {
            "text/plain": [
              "Pipeline(steps=[('preprocessor',\n",
              "                 ColumnTransformer(transformers=[('log',\n",
              "                                                  Pipeline(steps=[('functiontransformer',\n",
              "                                                                   FunctionTransformer(func=<ufunc 'log1p'>)),\n",
              "                                                                  ('standardscaler',\n",
              "                                                                   StandardScaler())]),\n",
              "                                                  ['year', 'condition',\n",
              "                                                   'odometer', 'mmr']),\n",
              "                                                 ('hash',\n",
              "                                                  Pipeline(steps=[('functiontransformer',\n",
              "                                                                   FunctionTransformer(func=<function hashing_pipeline.<locals>.<lambda> at 0x7c2aac5601f0>))]),\n",
              "                                                  ['model', 'trim',\n",
              "                                                   'saledate']),\n",
              "                                                 ('onehot',\n",
              "                                                  OneHotEncoder(handle_unknown='ignore',\n",
              "                                                                sparse=False),\n",
              "                                                  ['make', 'body', 'color',\n",
              "                                                   'interior', 'state',\n",
              "                                                   'seller']),\n",
              "                                                 ('binary',\n",
              "                                                  FunctionTransformer(func=<function binary_encode at 0x7c2aac503910>),\n",
              "                                                  ['transmission'])])),\n",
              "                ('regressor', LinearRegression())])"
            ],
            "text/html": [
              "<style>#sk-container-id-1 {color: black;background-color: white;}#sk-container-id-1 pre{padding: 0;}#sk-container-id-1 div.sk-toggleable {background-color: white;}#sk-container-id-1 label.sk-toggleable__label {cursor: pointer;display: block;width: 100%;margin-bottom: 0;padding: 0.3em;box-sizing: border-box;text-align: center;}#sk-container-id-1 label.sk-toggleable__label-arrow:before {content: \"▸\";float: left;margin-right: 0.25em;color: #696969;}#sk-container-id-1 label.sk-toggleable__label-arrow:hover:before {color: black;}#sk-container-id-1 div.sk-estimator:hover label.sk-toggleable__label-arrow:before {color: black;}#sk-container-id-1 div.sk-toggleable__content {max-height: 0;max-width: 0;overflow: hidden;text-align: left;background-color: #f0f8ff;}#sk-container-id-1 div.sk-toggleable__content pre {margin: 0.2em;color: black;border-radius: 0.25em;background-color: #f0f8ff;}#sk-container-id-1 input.sk-toggleable__control:checked~div.sk-toggleable__content {max-height: 200px;max-width: 100%;overflow: auto;}#sk-container-id-1 input.sk-toggleable__control:checked~label.sk-toggleable__label-arrow:before {content: \"▾\";}#sk-container-id-1 div.sk-estimator input.sk-toggleable__control:checked~label.sk-toggleable__label {background-color: #d4ebff;}#sk-container-id-1 div.sk-label input.sk-toggleable__control:checked~label.sk-toggleable__label {background-color: #d4ebff;}#sk-container-id-1 input.sk-hidden--visually {border: 0;clip: rect(1px 1px 1px 1px);clip: rect(1px, 1px, 1px, 1px);height: 1px;margin: -1px;overflow: hidden;padding: 0;position: absolute;width: 1px;}#sk-container-id-1 div.sk-estimator {font-family: monospace;background-color: #f0f8ff;border: 1px dotted black;border-radius: 0.25em;box-sizing: border-box;margin-bottom: 0.5em;}#sk-container-id-1 div.sk-estimator:hover {background-color: #d4ebff;}#sk-container-id-1 div.sk-parallel-item::after {content: \"\";width: 100%;border-bottom: 1px solid gray;flex-grow: 1;}#sk-container-id-1 div.sk-label:hover label.sk-toggleable__label {background-color: #d4ebff;}#sk-container-id-1 div.sk-serial::before {content: \"\";position: absolute;border-left: 1px solid gray;box-sizing: border-box;top: 0;bottom: 0;left: 50%;z-index: 0;}#sk-container-id-1 div.sk-serial {display: flex;flex-direction: column;align-items: center;background-color: white;padding-right: 0.2em;padding-left: 0.2em;position: relative;}#sk-container-id-1 div.sk-item {position: relative;z-index: 1;}#sk-container-id-1 div.sk-parallel {display: flex;align-items: stretch;justify-content: center;background-color: white;position: relative;}#sk-container-id-1 div.sk-item::before, #sk-container-id-1 div.sk-parallel-item::before {content: \"\";position: absolute;border-left: 1px solid gray;box-sizing: border-box;top: 0;bottom: 0;left: 50%;z-index: -1;}#sk-container-id-1 div.sk-parallel-item {display: flex;flex-direction: column;z-index: 1;position: relative;background-color: white;}#sk-container-id-1 div.sk-parallel-item:first-child::after {align-self: flex-end;width: 50%;}#sk-container-id-1 div.sk-parallel-item:last-child::after {align-self: flex-start;width: 50%;}#sk-container-id-1 div.sk-parallel-item:only-child::after {width: 0;}#sk-container-id-1 div.sk-dashed-wrapped {border: 1px dashed gray;margin: 0 0.4em 0.5em 0.4em;box-sizing: border-box;padding-bottom: 0.4em;background-color: white;}#sk-container-id-1 div.sk-label label {font-family: monospace;font-weight: bold;display: inline-block;line-height: 1.2em;}#sk-container-id-1 div.sk-label-container {text-align: center;}#sk-container-id-1 div.sk-container {/* jupyter's `normalize.less` sets `[hidden] { display: none; }` but bootstrap.min.css set `[hidden] { display: none !important; }` so we also need the `!important` here to be able to override the default hidden behavior on the sphinx rendered scikit-learn.org. See: https://github.com/scikit-learn/scikit-learn/issues/21755 */display: inline-block !important;position: relative;}#sk-container-id-1 div.sk-text-repr-fallback {display: none;}</style><div id=\"sk-container-id-1\" class=\"sk-top-container\"><div class=\"sk-text-repr-fallback\"><pre>Pipeline(steps=[(&#x27;preprocessor&#x27;,\n",
              "                 ColumnTransformer(transformers=[(&#x27;log&#x27;,\n",
              "                                                  Pipeline(steps=[(&#x27;functiontransformer&#x27;,\n",
              "                                                                   FunctionTransformer(func=&lt;ufunc &#x27;log1p&#x27;&gt;)),\n",
              "                                                                  (&#x27;standardscaler&#x27;,\n",
              "                                                                   StandardScaler())]),\n",
              "                                                  [&#x27;year&#x27;, &#x27;condition&#x27;,\n",
              "                                                   &#x27;odometer&#x27;, &#x27;mmr&#x27;]),\n",
              "                                                 (&#x27;hash&#x27;,\n",
              "                                                  Pipeline(steps=[(&#x27;functiontransformer&#x27;,\n",
              "                                                                   FunctionTransformer(func=&lt;function hashing_pipeline.&lt;locals&gt;.&lt;lambda&gt; at 0x7c2aac5601f0&gt;))]),\n",
              "                                                  [&#x27;model&#x27;, &#x27;trim&#x27;,\n",
              "                                                   &#x27;saledate&#x27;]),\n",
              "                                                 (&#x27;onehot&#x27;,\n",
              "                                                  OneHotEncoder(handle_unknown=&#x27;ignore&#x27;,\n",
              "                                                                sparse=False),\n",
              "                                                  [&#x27;make&#x27;, &#x27;body&#x27;, &#x27;color&#x27;,\n",
              "                                                   &#x27;interior&#x27;, &#x27;state&#x27;,\n",
              "                                                   &#x27;seller&#x27;]),\n",
              "                                                 (&#x27;binary&#x27;,\n",
              "                                                  FunctionTransformer(func=&lt;function binary_encode at 0x7c2aac503910&gt;),\n",
              "                                                  [&#x27;transmission&#x27;])])),\n",
              "                (&#x27;regressor&#x27;, LinearRegression())])</pre><b>In a Jupyter environment, please rerun this cell to show the HTML representation or trust the notebook. <br />On GitHub, the HTML representation is unable to render, please try loading this page with nbviewer.org.</b></div><div class=\"sk-container\" hidden><div class=\"sk-item sk-dashed-wrapped\"><div class=\"sk-label-container\"><div class=\"sk-label sk-toggleable\"><input class=\"sk-toggleable__control sk-hidden--visually\" id=\"sk-estimator-id-1\" type=\"checkbox\" ><label for=\"sk-estimator-id-1\" class=\"sk-toggleable__label sk-toggleable__label-arrow\">Pipeline</label><div class=\"sk-toggleable__content\"><pre>Pipeline(steps=[(&#x27;preprocessor&#x27;,\n",
              "                 ColumnTransformer(transformers=[(&#x27;log&#x27;,\n",
              "                                                  Pipeline(steps=[(&#x27;functiontransformer&#x27;,\n",
              "                                                                   FunctionTransformer(func=&lt;ufunc &#x27;log1p&#x27;&gt;)),\n",
              "                                                                  (&#x27;standardscaler&#x27;,\n",
              "                                                                   StandardScaler())]),\n",
              "                                                  [&#x27;year&#x27;, &#x27;condition&#x27;,\n",
              "                                                   &#x27;odometer&#x27;, &#x27;mmr&#x27;]),\n",
              "                                                 (&#x27;hash&#x27;,\n",
              "                                                  Pipeline(steps=[(&#x27;functiontransformer&#x27;,\n",
              "                                                                   FunctionTransformer(func=&lt;function hashing_pipeline.&lt;locals&gt;.&lt;lambda&gt; at 0x7c2aac5601f0&gt;))]),\n",
              "                                                  [&#x27;model&#x27;, &#x27;trim&#x27;,\n",
              "                                                   &#x27;saledate&#x27;]),\n",
              "                                                 (&#x27;onehot&#x27;,\n",
              "                                                  OneHotEncoder(handle_unknown=&#x27;ignore&#x27;,\n",
              "                                                                sparse=False),\n",
              "                                                  [&#x27;make&#x27;, &#x27;body&#x27;, &#x27;color&#x27;,\n",
              "                                                   &#x27;interior&#x27;, &#x27;state&#x27;,\n",
              "                                                   &#x27;seller&#x27;]),\n",
              "                                                 (&#x27;binary&#x27;,\n",
              "                                                  FunctionTransformer(func=&lt;function binary_encode at 0x7c2aac503910&gt;),\n",
              "                                                  [&#x27;transmission&#x27;])])),\n",
              "                (&#x27;regressor&#x27;, LinearRegression())])</pre></div></div></div><div class=\"sk-serial\"><div class=\"sk-item sk-dashed-wrapped\"><div class=\"sk-label-container\"><div class=\"sk-label sk-toggleable\"><input class=\"sk-toggleable__control sk-hidden--visually\" id=\"sk-estimator-id-2\" type=\"checkbox\" ><label for=\"sk-estimator-id-2\" class=\"sk-toggleable__label sk-toggleable__label-arrow\">preprocessor: ColumnTransformer</label><div class=\"sk-toggleable__content\"><pre>ColumnTransformer(transformers=[(&#x27;log&#x27;,\n",
              "                                 Pipeline(steps=[(&#x27;functiontransformer&#x27;,\n",
              "                                                  FunctionTransformer(func=&lt;ufunc &#x27;log1p&#x27;&gt;)),\n",
              "                                                 (&#x27;standardscaler&#x27;,\n",
              "                                                  StandardScaler())]),\n",
              "                                 [&#x27;year&#x27;, &#x27;condition&#x27;, &#x27;odometer&#x27;, &#x27;mmr&#x27;]),\n",
              "                                (&#x27;hash&#x27;,\n",
              "                                 Pipeline(steps=[(&#x27;functiontransformer&#x27;,\n",
              "                                                  FunctionTransformer(func=&lt;function hashing_pipeline.&lt;locals&gt;.&lt;lambda&gt; at 0x7c2aac5601f0&gt;))]),\n",
              "                                 [&#x27;model&#x27;, &#x27;trim&#x27;, &#x27;saledate&#x27;]),\n",
              "                                (&#x27;onehot&#x27;,\n",
              "                                 OneHotEncoder(handle_unknown=&#x27;ignore&#x27;,\n",
              "                                               sparse=False),\n",
              "                                 [&#x27;make&#x27;, &#x27;body&#x27;, &#x27;color&#x27;, &#x27;interior&#x27;, &#x27;state&#x27;,\n",
              "                                  &#x27;seller&#x27;]),\n",
              "                                (&#x27;binary&#x27;,\n",
              "                                 FunctionTransformer(func=&lt;function binary_encode at 0x7c2aac503910&gt;),\n",
              "                                 [&#x27;transmission&#x27;])])</pre></div></div></div><div class=\"sk-parallel\"><div class=\"sk-parallel-item\"><div class=\"sk-item\"><div class=\"sk-label-container\"><div class=\"sk-label sk-toggleable\"><input class=\"sk-toggleable__control sk-hidden--visually\" id=\"sk-estimator-id-3\" type=\"checkbox\" ><label for=\"sk-estimator-id-3\" class=\"sk-toggleable__label sk-toggleable__label-arrow\">log</label><div class=\"sk-toggleable__content\"><pre>[&#x27;year&#x27;, &#x27;condition&#x27;, &#x27;odometer&#x27;, &#x27;mmr&#x27;]</pre></div></div></div><div class=\"sk-serial\"><div class=\"sk-item\"><div class=\"sk-serial\"><div class=\"sk-item\"><div class=\"sk-estimator sk-toggleable\"><input class=\"sk-toggleable__control sk-hidden--visually\" id=\"sk-estimator-id-4\" type=\"checkbox\" ><label for=\"sk-estimator-id-4\" class=\"sk-toggleable__label sk-toggleable__label-arrow\">FunctionTransformer</label><div class=\"sk-toggleable__content\"><pre>FunctionTransformer(func=&lt;ufunc &#x27;log1p&#x27;&gt;)</pre></div></div></div><div class=\"sk-item\"><div class=\"sk-estimator sk-toggleable\"><input class=\"sk-toggleable__control sk-hidden--visually\" id=\"sk-estimator-id-5\" type=\"checkbox\" ><label for=\"sk-estimator-id-5\" class=\"sk-toggleable__label sk-toggleable__label-arrow\">StandardScaler</label><div class=\"sk-toggleable__content\"><pre>StandardScaler()</pre></div></div></div></div></div></div></div></div><div class=\"sk-parallel-item\"><div class=\"sk-item\"><div class=\"sk-label-container\"><div class=\"sk-label sk-toggleable\"><input class=\"sk-toggleable__control sk-hidden--visually\" id=\"sk-estimator-id-6\" type=\"checkbox\" ><label for=\"sk-estimator-id-6\" class=\"sk-toggleable__label sk-toggleable__label-arrow\">hash</label><div class=\"sk-toggleable__content\"><pre>[&#x27;model&#x27;, &#x27;trim&#x27;, &#x27;saledate&#x27;]</pre></div></div></div><div class=\"sk-serial\"><div class=\"sk-item\"><div class=\"sk-serial\"><div class=\"sk-item\"><div class=\"sk-estimator sk-toggleable\"><input class=\"sk-toggleable__control sk-hidden--visually\" id=\"sk-estimator-id-7\" type=\"checkbox\" ><label for=\"sk-estimator-id-7\" class=\"sk-toggleable__label sk-toggleable__label-arrow\">FunctionTransformer</label><div class=\"sk-toggleable__content\"><pre>FunctionTransformer(func=&lt;function hashing_pipeline.&lt;locals&gt;.&lt;lambda&gt; at 0x7c2aac5601f0&gt;)</pre></div></div></div></div></div></div></div></div><div class=\"sk-parallel-item\"><div class=\"sk-item\"><div class=\"sk-label-container\"><div class=\"sk-label sk-toggleable\"><input class=\"sk-toggleable__control sk-hidden--visually\" id=\"sk-estimator-id-8\" type=\"checkbox\" ><label for=\"sk-estimator-id-8\" class=\"sk-toggleable__label sk-toggleable__label-arrow\">onehot</label><div class=\"sk-toggleable__content\"><pre>[&#x27;make&#x27;, &#x27;body&#x27;, &#x27;color&#x27;, &#x27;interior&#x27;, &#x27;state&#x27;, &#x27;seller&#x27;]</pre></div></div></div><div class=\"sk-serial\"><div class=\"sk-item\"><div class=\"sk-estimator sk-toggleable\"><input class=\"sk-toggleable__control sk-hidden--visually\" id=\"sk-estimator-id-9\" type=\"checkbox\" ><label for=\"sk-estimator-id-9\" class=\"sk-toggleable__label sk-toggleable__label-arrow\">OneHotEncoder</label><div class=\"sk-toggleable__content\"><pre>OneHotEncoder(handle_unknown=&#x27;ignore&#x27;, sparse=False)</pre></div></div></div></div></div></div><div class=\"sk-parallel-item\"><div class=\"sk-item\"><div class=\"sk-label-container\"><div class=\"sk-label sk-toggleable\"><input class=\"sk-toggleable__control sk-hidden--visually\" id=\"sk-estimator-id-10\" type=\"checkbox\" ><label for=\"sk-estimator-id-10\" class=\"sk-toggleable__label sk-toggleable__label-arrow\">binary</label><div class=\"sk-toggleable__content\"><pre>[&#x27;transmission&#x27;]</pre></div></div></div><div class=\"sk-serial\"><div class=\"sk-item\"><div class=\"sk-estimator sk-toggleable\"><input class=\"sk-toggleable__control sk-hidden--visually\" id=\"sk-estimator-id-11\" type=\"checkbox\" ><label for=\"sk-estimator-id-11\" class=\"sk-toggleable__label sk-toggleable__label-arrow\">FunctionTransformer</label><div class=\"sk-toggleable__content\"><pre>FunctionTransformer(func=&lt;function binary_encode at 0x7c2aac503910&gt;)</pre></div></div></div></div></div></div></div></div><div class=\"sk-item\"><div class=\"sk-estimator sk-toggleable\"><input class=\"sk-toggleable__control sk-hidden--visually\" id=\"sk-estimator-id-12\" type=\"checkbox\" ><label for=\"sk-estimator-id-12\" class=\"sk-toggleable__label sk-toggleable__label-arrow\">LinearRegression</label><div class=\"sk-toggleable__content\"><pre>LinearRegression()</pre></div></div></div></div></div></div></div>"
            ]
          },
          "metadata": {},
          "execution_count": 17
        }
      ]
    },
    {
      "cell_type": "markdown",
      "source": [
        "# TEST USING LINEAR REGRESSION"
      ],
      "metadata": {
        "id": "Tjdy6s9D6oRv"
      }
    },
    {
      "cell_type": "code",
      "source": [
        "from sklearn.linear_model import LinearRegression\n",
        "from sklearn.metrics import mean_squared_error\n",
        "\n",
        "# Define the regression model\n",
        "regressor = LinearRegression()\n",
        "\n",
        "# Fit the regression model using the preprocessed training data\n",
        "regressor.fit(X_train_preprocessed, y_train)\n",
        "\n",
        "# Make predictions using the preprocessed training and test data\n",
        "y_train_pred = regressor.predict(X_train_preprocessed)\n",
        "y_test_pred = regressor.predict(X_test_preprocessed)\n",
        "\n",
        "# Calculate RMSE\n",
        "train_rmse = mean_squared_error(y_train, y_train_pred, squared=False)\n",
        "test_rmse = mean_squared_error(y_test, y_test_pred, squared=False)\n",
        "\n",
        "print(\"Training RMSE:\", train_rmse)\n",
        "print(\"Test RMSE:\", test_rmse)\n"
      ],
      "metadata": {
        "id": "Zj5qEI_6OCiO",
        "colab": {
          "base_uri": "https://localhost:8080/"
        },
        "outputId": "031fd33a-ab32-445f-bf35-1d1f679a0acc"
      },
      "execution_count": null,
      "outputs": [
        {
          "output_type": "stream",
          "name": "stdout",
          "text": [
            "Training RMSE: 3846.798541626387\n",
            "Test RMSE: 717235368933.6205\n"
          ]
        }
      ]
    },
    {
      "cell_type": "markdown",
      "source": [
        "Note: Linear Regression perform the worse out of all model tested"
      ],
      "metadata": {
        "id": "iQ35j6o46tOW"
      }
    },
    {
      "cell_type": "markdown",
      "source": [
        "# TEST USING DECISION TREE"
      ],
      "metadata": {
        "id": "1fbVUyc-6zbd"
      }
    },
    {
      "cell_type": "code",
      "source": [
        "from sklearn.tree import DecisionTreeRegressor\n",
        "from sklearn.metrics import mean_squared_error\n",
        "\n",
        "# Define the regression model\n",
        "regressor = DecisionTreeRegressor(max_depth=16, random_state=42)\n",
        "\n",
        "# Fit the regression model using the preprocessed training data\n",
        "%time regressor.fit(X_train_preprocessed, y_train)\n",
        "\n",
        "# Make predictions using the preprocessed training and test data\n",
        "y_train_pred = regressor.predict(X_train_preprocessed)\n",
        "y_test_pred = regressor.predict(X_test_preprocessed)\n",
        "\n",
        "# Calculate RMSE\n",
        "train_rmse = mean_squared_error(y_train, y_train_pred, squared=False)\n",
        "test_rmse = mean_squared_error(y_test, y_test_pred, squared=False)\n",
        "\n",
        "print(\"Training RMSE:\", train_rmse)\n",
        "print(\"Test RMSE:\", test_rmse)\n"
      ],
      "metadata": {
        "colab": {
          "base_uri": "https://localhost:8080/"
        },
        "id": "Pug6kCb_TAGN",
        "outputId": "0e058778-7ed8-4428-f1fa-b3b3cb21753b"
      },
      "execution_count": null,
      "outputs": [
        {
          "output_type": "stream",
          "name": "stdout",
          "text": [
            "CPU times: user 28.1 s, sys: 384 ms, total: 28.5 s\n",
            "Wall time: 28.4 s\n",
            "Training RMSE: 1077.5188508775093\n",
            "Test RMSE: 1719.1598542017348\n"
          ]
        }
      ]
    },
    {
      "cell_type": "markdown",
      "source": [
        "# TEST USING RANDOM FOREST WITH 100 TREE\n"
      ],
      "metadata": {
        "id": "Aw3YAFOw66G5"
      }
    },
    {
      "cell_type": "code",
      "source": [
        "from sklearn.ensemble import RandomForestRegressor\n",
        "from sklearn.metrics import mean_squared_error\n",
        "\n",
        "# Define the regression model\n",
        "regressor = RandomForestRegressor(n_estimators=100, max_depth=16, random_state=42)\n",
        "\n",
        "# Fit the regression model using the preprocessed training data\n",
        "%time regressor.fit(X_train_preprocessed, y_train)\n",
        "\n",
        "# Make predictions using the preprocessed training and test data\n",
        "y_train_pred = regressor.predict(X_train_preprocessed)\n",
        "y_test_pred = regressor.predict(X_test_preprocessed)\n",
        "\n",
        "# Calculate RMSE\n",
        "train_rmse = mean_squared_error(y_train, y_train_pred, squared=False)\n",
        "test_rmse = mean_squared_error(y_test, y_test_pred, squared=False)\n",
        "\n",
        "print(\"Training RMSE:\", train_rmse)\n",
        "print(\"Test RMSE:\", test_rmse)\n"
      ],
      "metadata": {
        "id": "m7WtJxikUpzR",
        "colab": {
          "base_uri": "https://localhost:8080/"
        },
        "outputId": "3a22a6ba-1698-4e50-c6af-b0b9b7713782"
      },
      "execution_count": null,
      "outputs": [
        {
          "output_type": "stream",
          "name": "stdout",
          "text": [
            "CPU times: user 25min 9s, sys: 1.01 s, total: 25min 10s\n",
            "Wall time: 25min 4s\n",
            "Training RMSE: 1068.1567649202873\n",
            "Test RMSE: 1506.3441244578255\n"
          ]
        }
      ]
    },
    {
      "cell_type": "markdown",
      "source": [
        "Note: Random Forest perform the best out of all model"
      ],
      "metadata": {
        "id": "MiXw2ind7Qj1"
      }
    },
    {
      "cell_type": "markdown",
      "source": [
        "# TEST USING ENSEMBLE LEARNING (COMBINING DECISION TREE, RANDOM FOREST AND EXTRA TREE REGRESSOR)"
      ],
      "metadata": {
        "id": "Ckn5NbSr7FXU"
      }
    },
    {
      "cell_type": "code",
      "source": [
        "from sklearn.tree import DecisionTreeRegressor\n",
        "from sklearn.ensemble import RandomForestRegressor, ExtraTreesRegressor, VotingRegressor\n",
        "from sklearn.metrics import mean_squared_error\n",
        "\n",
        "# Define the base regressors\n",
        "reg1 = DecisionTreeRegressor(max_depth=16, random_state=42)\n",
        "reg2 = RandomForestRegressor(random_state=42)\n",
        "reg3 = ExtraTreesRegressor(random_state=42)\n",
        "\n",
        "# Define the voting regressor\n",
        "voting_regressor = VotingRegressor(\n",
        "    estimators=[\n",
        "        ('dt', reg1),\n",
        "        ('rf', reg2),\n",
        "        ('xtra', reg3)\n",
        "    ]\n",
        ")\n",
        "\n",
        "# Fit the voting regressor using the preprocessed training data\n",
        "%time voting_regressor.fit(X_train_preprocessed, y_train)\n",
        "\n",
        "# Make predictions using the preprocessed training and test data\n",
        "y_train_pred_vot = voting_regressor.predict(X_train_preprocessed)\n",
        "y_test_pred_vot = voting_regressor.predict(X_test_preprocessed)\n",
        "\n",
        "# Calculate RMSE\n",
        "train_rmse = mean_squared_error(y_train, y_train_pred_vot, squared=False)\n",
        "test_rmse = mean_squared_error(y_test, y_test_pred_vot, squared=False)\n",
        "\n",
        "print(\"Training RMSE:\", train_rmse)\n",
        "print(\"Test RMSE:\", test_rmse)\n"
      ],
      "metadata": {
        "colab": {
          "base_uri": "https://localhost:8080/"
        },
        "id": "v41gPUJHnTQU",
        "outputId": "2d919a09-514b-44c6-9b42-7652b8b74968"
      },
      "execution_count": null,
      "outputs": [
        {
          "output_type": "stream",
          "name": "stdout",
          "text": [
            "CPU times: user 1h 41min 26s, sys: 6.57 s, total: 1h 41min 32s\n",
            "Wall time: 1h 41min 9s\n",
            "Training RMSE: 505.3573611571199\n",
            "Test RMSE: 1513.8767323761854\n"
          ]
        }
      ]
    },
    {
      "cell_type": "code",
      "source": [],
      "metadata": {
        "id": "4zy3fMS_rdWp"
      },
      "execution_count": null,
      "outputs": []
    }
  ]
}